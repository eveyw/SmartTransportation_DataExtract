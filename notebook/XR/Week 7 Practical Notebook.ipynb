{
 "cells": [
  {
   "cell_type": "markdown",
   "metadata": {},
   "source": [
    "<div style=\"display: block; width: 100%; height: 100px;\">\n",
    "\n",
    "<p style=\"float: left;\">\n",
    "    <span style=\"font-weight: bold; line-height: 24px; font-size: 16px;\">\n",
    "        Department of Digital Humanities\n",
    "        <br />\n",
    "        5AAVC210 Introduction to Programming in Python 2017-2018\n",
    "    </span>\n",
    "    <br >\n",
    "    <span style=\"line-height: 22x; font-size: 14x; margin-top: 10px;\">\n",
    "        Created by Giles Greenway. Delivered by Dom Weldon (dominic.weldon@kcl.ac.uk) <br />\n",
    "        Office Hours: Thursdays, 11am to 1pm, K-1.026 (King's Building, Strand Campus) <br />\n",
    "        Submit Assessed work to KEATS before the deadline.\n",
    "    </span>\n",
    "</p>\n",
    "\n",
    "<img style=\"width: 120px; height: 90px; float: right; margin: 0 0 0 0;\" src=\"data:image/svg+xml;base64,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\" />\n",
    "</div>"
   ]
  },
  {
   "cell_type": "markdown",
   "metadata": {},
   "source": [
    "## Week 7: Introduction to SQLite Practice Challenge"
   ]
  },
  {
   "cell_type": "code",
   "execution_count": 1,
   "metadata": {
    "collapsed": true
   },
   "outputs": [],
   "source": [
    "import hashlib\n",
    "import shutil\n",
    "import sqlite3\n",
    "from unittest import TestCase, TestLoader, TextTestRunner\n",
    "\n",
    "import requests\n",
    "\n",
    "def runTest(case):\n",
    "    suite = TestLoader().loadTestsFromModule(case())\n",
    "    TextTestRunner().run(suite) "
   ]
  },
  {
   "cell_type": "markdown",
   "metadata": {},
   "source": [
    "## This Week's Aims\n",
    "Despite the \"[NoSQL movement](https://pragprog.com/book/rwdata/seven-databases-in-seven-weeks)\", SQL (structured query language) for databases remains ubiquitous. Python's standard library speaks a dialect of it called SQLite, that's also used by Android apps. We'll use it to explore some data gathered during the development of the \"MobileMiner\" app for the \"[Our Data, Ourselves](https://big-social-data.net/)\" project. We'll look at the network behaviour of some Android apps, and the trail of mobile cell towers we leave behind. Later on, you can read about it [here](https://pdfs.semanticscholar.org/873b/2c14c22e232911166f215971bc2acaf8f00b.pdf) and [here](http://kdd.isti.cnr.it/pap2017/papers/PAP_2017_paper_3.pdf)."
   ]
  },
  {
   "cell_type": "markdown",
   "metadata": {},
   "source": [
    "Here are some utility functions to grab the databases we need and show what they contain."
   ]
  },
  {
   "cell_type": "code",
   "execution_count": 2,
   "metadata": {
    "collapsed": true
   },
   "outputs": [],
   "source": [
    "def getSqliteFiles():\n",
    "    files = ['https://github.com/kingsBSD/sqlite-example/raw/master/MobileMinerData.sqlite',\n",
    "        'https://github.com/kingsBSD/sqlite-example/raw/master/celldata.sqlite']\n",
    "    filenames = [f.split('/')[-1] for f in files]\n",
    "    for url, name in zip(files,filenames):\n",
    "        response = requests.get(url)\n",
    "        with open(name, 'wb') as f:\n",
    "            f.write(response.content)\n",
    "    return filenames\n",
    "\n",
    "def copySqliteFiles(files):\n",
    "    dest = ['.'.join([f.split('.')[0]+'_copy','sqlite']) for f in files]\n",
    "    for orig,copy in zip(files,dest):\n",
    "        shutil.copyfile(orig,copy)\n",
    "    return dest\n",
    "\n",
    "def getDbTables(cursor):\n",
    "    cursor.execute(\"SELECT name FROM sqlite_master WHERE type='table';\")\n",
    "    return [t[0] for t in cursor.fetchall()]\n",
    "\n",
    "def getTableFields(cursor, table):\n",
    "    try:\n",
    "        cursor.execute('SELECT * FROM '+table)\n",
    "    except:\n",
    "        return None\n",
    "    return [f[0] for f in cursor.description] \n"
   ]
  },
  {
   "cell_type": "markdown",
   "metadata": {},
   "source": [
    "You only need to run the next cell once. It might take a little while to get all the data."
   ]
  },
  {
   "cell_type": "code",
   "execution_count": 3,
   "metadata": {},
   "outputs": [],
   "source": [
    "sqlite_original_files = getSqliteFiles()"
   ]
  },
  {
   "cell_type": "markdown",
   "metadata": {},
   "source": [
    "The next cell makes working copies of the original database files. Run it again if you mess them up."
   ]
  },
  {
   "cell_type": "code",
   "execution_count": 4,
   "metadata": {},
   "outputs": [
    {
     "data": {
      "text/plain": [
       "['MobileMinerData_copy.sqlite', 'celldata_copy.sqlite']"
      ]
     },
     "execution_count": 4,
     "metadata": {},
     "output_type": "execute_result"
    }
   ],
   "source": [
    "sqlite_files = copySqliteFiles(sqlite_original_files)\n",
    "sqlite_files"
   ]
  },
  {
   "cell_type": "markdown",
   "metadata": {},
   "source": [
    "We create connections and cursors for the two databases, just like in standard module [documentation](https://docs.python.org/3/library/sqlite3.html)."
   ]
  },
  {
   "cell_type": "code",
   "execution_count": 5,
   "metadata": {
    "collapsed": true
   },
   "outputs": [],
   "source": [
    "mobile_miner_conn = sqlite3.connect('MobileMinerData_copy.sqlite')\n",
    "mobile_miner_cursor = mobile_miner_conn.cursor()\n",
    "cell_tower_conn = sqlite3.connect('celldata_copy.sqlite')\n",
    "cell_tower_cursor = cell_tower_conn.cursor()"
   ]
  },
  {
   "cell_type": "markdown",
   "metadata": {},
   "source": [
    "The first database was downloaded from an Android 'phone used to develop the MobileMiner app. Let's get a list of the tables:"
   ]
  },
  {
   "cell_type": "code",
   "execution_count": 6,
   "metadata": {},
   "outputs": [
    {
     "data": {
      "text/plain": [
       "['android_metadata',\n",
       " 'socket',\n",
       " 'sqlite_sequence',\n",
       " 'gsmcell',\n",
       " 'gsmlocation',\n",
       " 'gsmcellpolygon',\n",
       " 'mobilenetwork',\n",
       " 'wifinetwork',\n",
       " 'minerlog',\n",
       " 'notification',\n",
       " 'networktraffic',\n",
       " 'bookkeeping']"
      ]
     },
     "execution_count": 6,
     "metadata": {},
     "output_type": "execute_result"
    }
   ],
   "source": [
    "getDbTables(mobile_miner_cursor)"
   ]
  },
  {
   "cell_type": "markdown",
   "metadata": {},
   "source": [
    "The \"socket\" table is quite interesting, it logs when various apps opened network sockets. The name of the app is stored in the \"process\" column. Also of interest is the time when the socket was opened, the network protocol used and the IP port. (You are probably looking at this notebook via TCP port 8888.)"
   ]
  },
  {
   "cell_type": "code",
   "execution_count": 7,
   "metadata": {},
   "outputs": [
    {
     "data": {
      "text/plain": [
       "['_id', 'process', 'protocol', 'ip', 'port', 'opened', 'closed', 'day']"
      ]
     },
     "execution_count": 7,
     "metadata": {},
     "output_type": "execute_result"
    }
   ],
   "source": [
    "getTableFields(mobile_miner_cursor, 'socket')"
   ]
  },
  {
   "cell_type": "markdown",
   "metadata": {},
   "source": [
    "### Part 1: Basic Selecting\n",
    "The most basic SQL statement is \"SELECT\". We pass the SQL code with our cursor's \"execute\" method. This should return all the columns from all the rows from the \"gsmlocation\" table. We get the data returned with the \"fetchall\" method."
   ]
  },
  {
   "cell_type": "code",
   "execution_count": 8,
   "metadata": {},
   "outputs": [
    {
     "data": {
      "text/plain": [
       "[]"
      ]
     },
     "execution_count": 8,
     "metadata": {},
     "output_type": "execute_result"
    }
   ],
   "source": [
    "mobile_miner_cursor.execute(\"SELECT * FROM gsmlocation\")\n",
    "mobile_miner_cursor.fetchall()"
   ]
  },
  {
   "cell_type": "markdown",
   "metadata": {},
   "source": [
    "Oh dear, that table is empty! We might do something about that later. This time we'll select only the \"process\" column from the \"socket\" table. There will be loads of network events for Chrome. If we specify the \"DISTINCT\" modifier, we make sure all the returned rows are unique. In short, this returns all the apps in the socket table."
   ]
  },
  {
   "cell_type": "code",
   "execution_count": 9,
   "metadata": {},
   "outputs": [
    {
     "data": {
      "text/plain": [
       "[('com.android.chrome',),\n",
       " ('com.google.android.apps.plus',),\n",
       " ('org.mozilla.firefox',),\n",
       " ('org.mozilla.firefox.UpdateService',),\n",
       " ('com.skype.raider',),\n",
       " ('com.joelapenna.foursquared',),\n",
       " ('com.google.android.gms',),\n",
       " ('com.facebook.katana',),\n",
       " ('com.google.android.gm',),\n",
       " ('net.thecloud.fastconnect',),\n",
       " ('com.twitter.android',),\n",
       " ('com.sec.android.app.camera',),\n",
       " ('com.google.android.gsf.login',)]"
      ]
     },
     "execution_count": 9,
     "metadata": {},
     "output_type": "execute_result"
    }
   ],
   "source": [
    "mobile_miner_cursor.execute('SELECT DISTINCT process FROM socket')\n",
    "mobile_miner_cursor.fetchall()"
   ]
  },
  {
   "cell_type": "markdown",
   "metadata": {},
   "source": [
    "Here, we return the process (the app) and the network protocol. We use \"ORDER BY\" to sort first by the protocol,\n",
    "then by the process name, so all the apps that used TCP are listed first. We get a list of tuples, one for each row returned. (I'd tell you a UDP [joke](https://yakking.branchable.com/posts/udp/), but you might not get it.)"
   ]
  },
  {
   "cell_type": "code",
   "execution_count": 10,
   "metadata": {},
   "outputs": [
    {
     "data": {
      "text/plain": [
       "[('com.android.chrome', 'tcp'),\n",
       " ('com.google.android.apps.plus', 'tcp'),\n",
       " ('com.google.android.gm', 'tcp'),\n",
       " ('com.skype.raider', 'tcp'),\n",
       " ('org.mozilla.firefox', 'tcp'),\n",
       " ('org.mozilla.firefox.UpdateService', 'tcp'),\n",
       " ('com.facebook.katana', 'udp'),\n",
       " ('com.google.android.gms', 'udp'),\n",
       " ('com.google.android.gsf.login', 'udp'),\n",
       " ('com.joelapenna.foursquared', 'udp'),\n",
       " ('com.sec.android.app.camera', 'udp'),\n",
       " ('com.skype.raider', 'udp'),\n",
       " ('com.twitter.android', 'udp'),\n",
       " ('net.thecloud.fastconnect', 'udp')]"
      ]
     },
     "execution_count": 10,
     "metadata": {},
     "output_type": "execute_result"
    }
   ],
   "source": [
    "mobile_miner_cursor.execute('SELECT DISTINCT process, protocol FROM socket ORDER BY protocol, process')\n",
    "mobile_miner_cursor.fetchall()"
   ]
  },
  {
   "cell_type": "markdown",
   "metadata": {},
   "source": [
    "Now look at the \"networktraffic\" table. It was generated using standard Android API calls, unlike the cheap hack used to produce the \"socket\" table. It's more reliable, but it doesn't tell us as much. There's no information about the ports or protocols."
   ]
  },
  {
   "cell_type": "code",
   "execution_count": 15,
   "metadata": {},
   "outputs": [
    {
     "ename": "NameError",
     "evalue": "name 'curs' is not defined",
     "output_type": "error",
     "traceback": [
      "\u001b[0;31m---------------------------------------------------------------------------\u001b[0m",
      "\u001b[0;31mNameError\u001b[0m                                 Traceback (most recent call last)",
      "\u001b[0;32m<ipython-input-15-a4808c6cc876>\u001b[0m in \u001b[0;36m<module>\u001b[0;34m()\u001b[0m\n\u001b[0;32m----> 1\u001b[0;31m \u001b[0mgetTableFields\u001b[0m\u001b[0;34m(\u001b[0m\u001b[0mcurs\u001b[0m\u001b[0;34m,\u001b[0m\u001b[0;34m'networktraffic'\u001b[0m\u001b[0;34m)\u001b[0m\u001b[0;34m\u001b[0m\u001b[0m\n\u001b[0m\u001b[1;32m      2\u001b[0m \u001b[0;31m# getTableFields(mobile_miner_cursor, 'socket')\u001b[0m\u001b[0;34m\u001b[0m\u001b[0;34m\u001b[0m\u001b[0m\n",
      "\u001b[0;31mNameError\u001b[0m: name 'curs' is not defined"
     ]
    }
   ],
   "source": [
    "getTableFields(curs,'networktraffic')"
   ]
  },
  {
   "cell_type": "markdown",
   "metadata": {},
   "source": [
    "Here's where you come in. Complete the \"getTrafficProcesses\" function, which takes a SQLite cursor as it's only argument. It should return a unique list of all the processes in the \"networktraffic\" table, without worrying about sorting. A single \"SELECT\" statement is needed. You should return a list, not a list of tuples. The cell will test the function for you."
   ]
  },
  {
   "cell_type": "code",
   "execution_count": 16,
   "metadata": {},
   "outputs": [
    {
     "name": "stderr",
     "output_type": "stream",
     "text": [
      "..\n",
      "----------------------------------------------------------------------\n",
      "Ran 2 tests in 0.006s\n",
      "\n",
      "OK\n"
     ]
    }
   ],
   "source": [
    "class TestGetTrafficProcesses(TestCase):\n",
    "    \"\"\"Don't worry too much about how these tests work...\n",
    "    (...unless you *really* want to.)\n",
    "    \"\"\"\n",
    "    \n",
    "    def testLength(self):\n",
    "        self.assertEqual(len(getTrafficProcesses(mobile_miner_cursor)),28)\n",
    "\n",
    "    def testContent(self):\n",
    "        # This is a *viciously* over-engineered way to prevent you from cheating.\n",
    "        procs = getTrafficProcesses(mobile_miner_cursor)\n",
    "        indices  = [4,8,17,24]\n",
    "        hashed_procs = [hashlib.sha224(bytes(procs[i],'ascii')).hexdigest() for i in indices]\n",
    "        self.assertEqual(hashed_procs,['2fb69a97e6ae8c23549dae4eb1699ca08b4b3c6e8427deffc647a695',\n",
    "            '0a27edaf745f7efd409cf5f2dc4f02c69bdcd048842a044d9df4394b',\n",
    "            '67987888fac2a46894a8014ed71841bcd4c7696656da087bbb2ff98f',\n",
    "            '0873cf983d06bd5526db5c9b98e91fa6a9ed6aec75944ef543dfc05d'])\n",
    "        \n",
    "def getTrafficProcesses(cursor):\n",
    "    # Your code here:\n",
    "    cursor.execute(\"SELECT DISTINCT process FROM networktraffic\")\n",
    "    return [t[0] for t in cursor.fetchall()]\n",
    "\n",
    "def getTableFields(cursor, table):\n",
    "    try:\n",
    "        cursor.execute('SELECT * FROM '+table)\n",
    "    except:\n",
    "        return None\n",
    "    return [f[0] for f in cursor.description]\n",
    "\n",
    "    pass\n",
    "    \n",
    "runTest(TestGetTrafficProcesses)    "
   ]
  },
  {
   "cell_type": "markdown",
   "metadata": {},
   "source": [
    "See what your function returns. There are loads more apps in the \"networktraffic\" table than in the socket table."
   ]
  },
  {
   "cell_type": "code",
   "execution_count": 17,
   "metadata": {},
   "outputs": [
    {
     "data": {
      "text/plain": [
       "['com.android.chrome',\n",
       " 'com.facebook.katana',\n",
       " 'com.whatsapp',\n",
       " 'com.google.process.gapps',\n",
       " 'com.google.android.youtube',\n",
       " 'com.google.android.apps.plus',\n",
       " 'com.google.android.gm',\n",
       " 'com.android.vending',\n",
       " 'org.mozilla.firefox',\n",
       " 'com.twitter.android',\n",
       " 'com.opera.mini.android',\n",
       " 'com.samsung.android.widgetapp.briefing4x2',\n",
       " 'com.sec.android.daemonapp',\n",
       " 'com.github.mobile',\n",
       " 'com.skype.raider',\n",
       " 'com.meetup',\n",
       " 'com.google.android.apps.maps',\n",
       " 'com.google.android.googlequicksearchbox',\n",
       " 'com.wssyncmldm',\n",
       " 'net.thecloud.fastconnect',\n",
       " 'com.sec.android.app.samsungapps',\n",
       " 'com.joelapenna.foursquared',\n",
       " 'com.google.android.syncadapters.calendar',\n",
       " 'com.google.android.music:main',\n",
       " 'com.linkedin.android',\n",
       " 'android.process.media',\n",
       " 'uk.ac.kcl.odo.mobileminer',\n",
       " 'com.sec.android.gallery3d']"
      ]
     },
     "execution_count": 17,
     "metadata": {},
     "output_type": "execute_result"
    }
   ],
   "source": [
    "getTrafficProcesses(mobile_miner_cursor)"
   ]
  },
  {
   "cell_type": "markdown",
   "metadata": {},
   "source": [
    "Now you're going to need a very slightly more complex query, then manipulate the results with a little Python. The function \"getProcessPorts\" should return a dictionary whose keys are all the processes in the \"socket\" table. The values should be lists of the ports used by each process. The order of the ports in each list doesn't matter."
   ]
  },
  {
   "cell_type": "code",
   "execution_count": 37,
   "metadata": {},
   "outputs": [
    {
     "name": "stderr",
     "output_type": "stream",
     "text": [
      "EE\n",
      "======================================================================\n",
      "ERROR: testContent (__main__.TestGetProcessPorts)\n",
      "----------------------------------------------------------------------\n",
      "Traceback (most recent call last):\n",
      "  File \"<ipython-input-37-5c6687c7628d>\", line 12, in testContent\n",
      "    results = getProcessPorts(mobile_miner_cursor)\n",
      "  File \"<ipython-input-37-5c6687c7628d>\", line 18, in getProcessPorts\n",
      "    cursor.execute(\"SELECT process, port FROM socket by process\")\n",
      "sqlite3.OperationalError: near \"process\": syntax error\n",
      "\n",
      "======================================================================\n",
      "ERROR: testLength (__main__.TestGetProcessPorts)\n",
      "----------------------------------------------------------------------\n",
      "Traceback (most recent call last):\n",
      "  File \"<ipython-input-37-5c6687c7628d>\", line 8, in testLength\n",
      "    self.assertEqual(len(getProcessPorts(mobile_miner_cursor)),13)\n",
      "  File \"<ipython-input-37-5c6687c7628d>\", line 18, in getProcessPorts\n",
      "    cursor.execute(\"SELECT process, port FROM socket by process\")\n",
      "sqlite3.OperationalError: near \"process\": syntax error\n",
      "\n",
      "----------------------------------------------------------------------\n",
      "Ran 2 tests in 0.006s\n",
      "\n",
      "FAILED (errors=2)\n"
     ]
    }
   ],
   "source": [
    "\n",
    "class TestGetProcessPorts(TestCase):\n",
    "    \"\"\"Don't worry too much about how these tests work...\n",
    "    (...unless you *really* want to.)\n",
    "    \"\"\"\n",
    "    \n",
    "    def testLength(self):\n",
    "        self.assertEqual(len(getProcessPorts(mobile_miner_cursor)),13)\n",
    "        \n",
    "    def testContent(self):\n",
    "        # This is another *viciously* over-engineered way to prevent you from cheating.\n",
    "        results = getProcessPorts(mobile_miner_cursor)\n",
    "        hashCheck = lambda p: hashlib.sha224(bytes('_'.join(sorted(results[p])),'ascii')).hexdigest()\n",
    "        self.assertEqual(hashCheck('com.skype.raider'),'9ba1885f4e8b5b5724b4f20fb2143d8e41be8facba8d155cbc313509')\n",
    "        self.assertEqual(hashCheck('com.facebook.katana'),'6c905a484091b8fd5e27b0cbdb51751f6de1f15f2f0d9d1b06149e92')\n",
    "\n",
    "def getProcessPorts(cursor):\n",
    "    cursor.execute(\"SELECT process, port FROM socket by process\")\n",
    "    return [t[0] for t in cursor.fetchall()]\n",
    "    pass\n",
    "    \n",
    "runTest(TestGetProcessPorts)"
   ]
  },
  {
   "cell_type": "markdown",
   "metadata": {},
   "source": [
    "## Part 2: WHERE Clauses\n",
    "We can filter the results of queries with a \"WHERE\" clause. This one returns all the apps that ever opened a network socket on a Thurdsay. Notice that the string 'Thu' has to be in quotes."
   ]
  },
  {
   "cell_type": "code",
   "execution_count": 34,
   "metadata": {},
   "outputs": [
    {
     "data": {
      "text/plain": [
       "[('com.android.chrome',),\n",
       " ('com.google.android.apps.plus',),\n",
       " ('org.mozilla.firefox',),\n",
       " ('org.mozilla.firefox.UpdateService',),\n",
       " ('com.skype.raider',)]"
      ]
     },
     "execution_count": 34,
     "metadata": {},
     "output_type": "execute_result"
    }
   ],
   "source": [
    "mobile_miner_cursor.execute(\"SELECT DISTINCT process FROM socket WHERE day = 'Thu'\")\n",
    "mobile_miner_cursor.fetchall()"
   ]
  },
  {
   "cell_type": "markdown",
   "metadata": {},
   "source": [
    "We can have multiple conditions in a \"WHERE\" clause using boolean operators. (\"AND\", \"OR\", etc...) Here are all the apps that ever opened a network socket at the  weekend are returned. Both the process and the day of the week are selected."
   ]
  },
  {
   "cell_type": "code",
   "execution_count": 35,
   "metadata": {},
   "outputs": [
    {
     "data": {
      "text/plain": [
       "[('com.android.chrome', 'Sat'),\n",
       " ('com.skype.raider', 'Sat'),\n",
       " ('com.google.android.apps.plus', 'Sat'),\n",
       " ('com.skype.raider', 'Sun'),\n",
       " ('com.google.android.apps.plus', 'Sun')]"
      ]
     },
     "execution_count": 35,
     "metadata": {},
     "output_type": "execute_result"
    }
   ],
   "source": [
    "mobile_miner_cursor.execute(\"SELECT DISTINCT process,day FROM socket WHERE day = 'Sat' OR day = 'Sun'\")\n",
    "mobile_miner_cursor.fetchall()"
   ]
  },
  {
   "cell_type": "markdown",
   "metadata": {},
   "source": [
    "If you add \"DESC\" to \"ORDER BY\", the results are returned in descending order."
   ]
  },
  {
   "cell_type": "code",
   "execution_count": 36,
   "metadata": {
    "scrolled": true
   },
   "outputs": [
    {
     "data": {
      "text/plain": [
       "[('org.mozilla.firefox.UpdateService',),\n",
       " ('org.mozilla.firefox',),\n",
       " ('net.thecloud.fastconnect',),\n",
       " ('com.twitter.android',),\n",
       " ('com.skype.raider',),\n",
       " ('com.sec.android.app.camera',),\n",
       " ('com.joelapenna.foursquared',),\n",
       " ('com.google.android.gsf.login',),\n",
       " ('com.google.android.gms',),\n",
       " ('com.google.android.gm',),\n",
       " ('com.google.android.apps.plus',),\n",
       " ('com.facebook.katana',),\n",
       " ('com.android.chrome',)]"
      ]
     },
     "execution_count": 36,
     "metadata": {},
     "output_type": "execute_result"
    }
   ],
   "source": [
    "mobile_miner_cursor.execute('SELECT DISTINCT process FROM socket ORDER BY process DESC')\n",
    "mobile_miner_cursor.fetchall()"
   ]
  },
  {
   "cell_type": "markdown",
   "metadata": {},
   "source": [
    "The standard module [documentation](https://docs.python.org/3/library/sqlite3.html) tells you how to inject values into SQL queries. Use a \"?\" as a placeholder for each value, and pass them in order using a tuple. Here's all Twitter did on port 53:"
   ]
  },
  {
   "cell_type": "code",
   "execution_count": 37,
   "metadata": {},
   "outputs": [
    {
     "data": {
      "text/plain": [
       "[(217,\n",
       "  'com.twitter.android',\n",
       "  'udp',\n",
       "  '2.11.15.6',\n",
       "  '53',\n",
       "  '2014-07-14T01:11:33Z',\n",
       "  '2014-07-14T01:11:47Z',\n",
       "  'Mon'),\n",
       " (226,\n",
       "  'com.twitter.android',\n",
       "  'udp',\n",
       "  '14.11.15.6',\n",
       "  '53',\n",
       "  '2014-07-14T01:11:27Z',\n",
       "  '2014-07-14T01:12:02Z',\n",
       "  'Mon'),\n",
       " (227,\n",
       "  'com.twitter.android',\n",
       "  'udp',\n",
       "  '2.11.15.6',\n",
       "  '53',\n",
       "  '2014-07-14T01:11:54Z',\n",
       "  '2014-07-14T01:12:02Z',\n",
       "  'Mon')]"
      ]
     },
     "execution_count": 37,
     "metadata": {},
     "output_type": "execute_result"
    }
   ],
   "source": [
    "values = ('com.twitter.android',53)\n",
    "mobile_miner_cursor.execute(\"SELECT * FROM socket WHERE process=? AND port=?\", values)\n",
    "mobile_miner_cursor.fetchall()"
   ]
  },
  {
   "cell_type": "code",
   "execution_count": 39,
   "metadata": {
    "collapsed": true
   },
   "outputs": [],
   "source": [
    "#If your tuple only has one item, it needs a trailing comma:\n",
    "only_one_answer = (42,)"
   ]
  },
  {
   "cell_type": "markdown",
   "metadata": {},
   "source": [
    "Now you can write a \"WHERE\" clause of your own. \"getUdpEvents\" takes a cursor and an Android package. It should\n",
    "return a list of timestamps of when UDP sockets were opened for that package in ascending order."
   ]
  },
  {
   "cell_type": "code",
   "execution_count": null,
   "metadata": {
    "collapsed": true
   },
   "outputs": [],
   "source": [
    "class TestGetUdpEvents(TestCase):\n",
    "    \"\"\"Don't worry too much about how these tests work...\n",
    "    (...unless you *really* want to.)\n",
    "    \"\"\"\n",
    "        \n",
    "    def testLength(self):\n",
    "        self.assertEqual(len(getUdpEvents(mobile_miner_cursor,'com.skype.raider')),7)\n",
    "        \n",
    "    def testContent(self):\n",
    "        hashCheck = lambda r: hashlib.sha224(bytes(' '.join(r),'ascii')).hexdigest()\n",
    "        result = getUdpEvents(mobile_miner_cursor,'com.skype.raider')\n",
    "        self.assertEqual(hashCheck(result), '85f1bca843c87aa91bc0650893db8275ba4251c545c7da2ff500898f')\n",
    "\n",
    "def getUdpEvents(cursor, package):\n",
    "    # Your code here:\n",
    "    pass\n",
    "    \n",
    "runTest(TestGetUdpEvents)"
   ]
  },
  {
   "cell_type": "markdown",
   "metadata": {},
   "source": [
    "## Part 3: Aggregation Functions\n",
    "SQL can apply functions to the columns it returns. Here we'll count all the times Chrome opened a socket on port 80, using insecure HTTP:"
   ]
  },
  {
   "cell_type": "code",
   "execution_count": null,
   "metadata": {
    "collapsed": true
   },
   "outputs": [],
   "source": [
    "mobile_miner_cursor.execute(\"SELECT COUNT(port) FROM socket WHERE port=80 AND process='com.android.chrome'\")\n",
    "mobile_miner_cursor.fetchall()"
   ]
  },
  {
   "cell_type": "markdown",
   "metadata": {},
   "source": [
    "We'll do it again for sockets using secure HTTPS on port 443. We should be able to return both rows with one query, which we'll fix very soon."
   ]
  },
  {
   "cell_type": "code",
   "execution_count": null,
   "metadata": {
    "collapsed": true
   },
   "outputs": [],
   "source": [
    "mobile_miner_cursor.execute(\"SELECT COUNT(port) FROM socket WHERE port=443 AND process='com.android.chrome'\")\n",
    "mobile_miner_cursor.fetchall()"
   ]
  },
  {
   "cell_type": "markdown",
   "metadata": {},
   "source": [
    "There are lots of other functions. Use \"MAX\" to return the largest/latest timestamp for a network socket for the given process. Your function should return a single timestamp as a string."
   ]
  },
  {
   "cell_type": "code",
   "execution_count": null,
   "metadata": {
    "collapsed": true
   },
   "outputs": [],
   "source": [
    "class TestMostRecentSocket(TestCase):\n",
    "    \n",
    "    def testResult(self):\n",
    "        apps=['com.google.android.gsf.login','com.google.android.gms','com.google.android.gm']\n",
    "        hsh = hashlib.sha224(bytes(' '.join(map(lambda a: mostRecentSocket(mobile_miner_cursor, a),apps)),\n",
    "            'ascii')).hexdigest()\n",
    "        self.assertEqual(hsh,'7f828e6599d22aaf0dba75e8081727c2c86094abf8fb99367ffb0bfe')\n",
    "\n",
    "def mostRecentSocket(cursor, process):\n",
    "    # Your code here:\n",
    "    pass\n",
    "\n",
    "runTest(TestMostRecentSocket)"
   ]
  },
  {
   "cell_type": "markdown",
   "metadata": {},
   "source": [
    "## Part 4: GROUP BY\n",
    "Now we can the total number of sockets for each port used by Chrome. We select the port and the count of the port.\n",
    "Using \"GROUP BY port\" means that the count is repeated for each port number, we don't just count all the sockets at once. We can see that more sockets were opened using insecure HTTP on port 80 than secure HTTPS on port 443:"
   ]
  },
  {
   "cell_type": "code",
   "execution_count": 27,
   "metadata": {},
   "outputs": [
    {
     "data": {
      "text/plain": [
       "[('443', 44), ('80', 198)]"
      ]
     },
     "execution_count": 27,
     "metadata": {},
     "output_type": "execute_result"
    }
   ],
   "source": [
    "mobile_miner_cursor.execute(\"\"\"SELECT port, COUNT(port) FROM socket\n",
    "    WHERE process='com.android.chrome' GROUP BY port\"\"\")\n",
    "mobile_miner_cursor.fetchall()"
   ]
  },
  {
   "cell_type": "markdown",
   "metadata": {},
   "source": [
    "Can we do that for all the apps? Will the next query work?"
   ]
  },
  {
   "cell_type": "code",
   "execution_count": 28,
   "metadata": {},
   "outputs": [
    {
     "data": {
      "text/plain": [
       "[('com.android.chrome', '443', 139),\n",
       " ('com.skype.raider', '53', 45),\n",
       " ('com.android.chrome', '80', 214)]"
      ]
     },
     "execution_count": 28,
     "metadata": {},
     "output_type": "execute_result"
    }
   ],
   "source": [
    "mobile_miner_cursor.execute(\"SELECT process, port, COUNT(port) FROM socket GROUP BY port\")\n",
    "mobile_miner_cursor.fetchall()"
   ]
  },
  {
   "cell_type": "markdown",
   "metadata": {},
   "source": [
    "That just looks *wrong*. Nearly all the apps are missing, and Chrome looks like it's too many sockets on port 443. We need to group by process *and* port:"
   ]
  },
  {
   "cell_type": "code",
   "execution_count": 29,
   "metadata": {},
   "outputs": [
    {
     "data": {
      "text/plain": [
       "[('com.android.chrome', '443', 44),\n",
       " ('com.android.chrome', '80', 198),\n",
       " ('com.facebook.katana', '53', 9),\n",
       " ('com.google.android.apps.plus', '443', 26),\n",
       " ('com.google.android.gm', '443', 2),\n",
       " ('com.google.android.gms', '53', 14),\n",
       " ('com.google.android.gsf.login', '53', 1),\n",
       " ('com.joelapenna.foursquared', '53', 1),\n",
       " ('com.sec.android.app.camera', '53', 5),\n",
       " ('com.skype.raider', '443', 59),\n",
       " ('com.skype.raider', '53', 7),\n",
       " ('com.skype.raider', '80', 8),\n",
       " ('com.twitter.android', '53', 3),\n",
       " ('net.thecloud.fastconnect', '53', 5),\n",
       " ('org.mozilla.firefox', '443', 4),\n",
       " ('org.mozilla.firefox', '80', 4),\n",
       " ('org.mozilla.firefox.UpdateService', '443', 4),\n",
       " ('org.mozilla.firefox.UpdateService', '80', 4)]"
      ]
     },
     "execution_count": 29,
     "metadata": {},
     "output_type": "execute_result"
    }
   ],
   "source": [
    "mobile_miner_cursor.execute(\"SELECT process, port, COUNT(port) FROM socket GROUP BY process, port\")\n",
    "mobile_miner_cursor.fetchall()"
   ]
  },
  {
   "cell_type": "markdown",
   "metadata": {},
   "source": [
    "That's much better, all the apps are back and the numbers for Chrome look right. We can use \"AS\" to alias \"COUNT(port)\" as \"count\". Now we can sort the results by the app names and have the most active ports listed first."
   ]
  },
  {
   "cell_type": "code",
   "execution_count": 30,
   "metadata": {},
   "outputs": [
    {
     "data": {
      "text/plain": [
       "[('com.android.chrome', '80', 198),\n",
       " ('com.android.chrome', '443', 44),\n",
       " ('com.facebook.katana', '53', 9),\n",
       " ('com.google.android.apps.plus', '443', 26),\n",
       " ('com.google.android.gm', '443', 2),\n",
       " ('com.google.android.gms', '53', 14),\n",
       " ('com.google.android.gsf.login', '53', 1),\n",
       " ('com.joelapenna.foursquared', '53', 1),\n",
       " ('com.sec.android.app.camera', '53', 5),\n",
       " ('com.skype.raider', '443', 59),\n",
       " ('com.skype.raider', '80', 8),\n",
       " ('com.skype.raider', '53', 7),\n",
       " ('com.twitter.android', '53', 3),\n",
       " ('net.thecloud.fastconnect', '53', 5),\n",
       " ('org.mozilla.firefox', '443', 4),\n",
       " ('org.mozilla.firefox', '80', 4),\n",
       " ('org.mozilla.firefox.UpdateService', '443', 4),\n",
       " ('org.mozilla.firefox.UpdateService', '80', 4)]"
      ]
     },
     "execution_count": 30,
     "metadata": {},
     "output_type": "execute_result"
    }
   ],
   "source": [
    "mobile_miner_cursor.execute(\n",
    "    \"SELECT process, port, COUNT(port) AS count FROM socket GROUP BY process, port ORDER BY process, count DESC\")\n",
    "mobile_miner_cursor.fetchall()"
   ]
  },
  {
   "cell_type": "markdown",
   "metadata": {},
   "source": [
    "Now you can have a go at using \"GROUP BY\". Use the \"networktraffic\" table. Return a list of dictionaries whose keys are \"app\" and \"count\". \"app\" is the process, \"count\" is the number of network-traffic events. The most active apps should be returned first. The previous query should give you a clue."
   ]
  },
  {
   "cell_type": "code",
   "execution_count": 36,
   "metadata": {
    "scrolled": true
   },
   "outputs": [
    {
     "name": "stderr",
     "output_type": "stream",
     "text": [
      "EE\n",
      "======================================================================\n",
      "ERROR: testAppOrder (__main__.TestBusiestAppTraffic)\n",
      "----------------------------------------------------------------------\n",
      "Traceback (most recent call last):\n",
      "  File \"<ipython-input-36-cd01e0676244>\", line 4, in testAppOrder\n",
      "    hsh = hashlib.sha224(bytes(' '.join([a['app'] for a in busiestAppTraffic(mobile_miner_cursor)]),\n",
      "  File \"<ipython-input-36-cd01e0676244>\", line 22, in busiestAppTraffic\n",
      "    \"SELECT process, app, COUNT(port) AS count FROM networktraffic GROUP BY process, app ORDER BY process, count DESC\")\n",
      "sqlite3.OperationalError: no such column: app\n",
      "\n",
      "======================================================================\n",
      "ERROR: testCounts (__main__.TestBusiestAppTraffic)\n",
      "----------------------------------------------------------------------\n",
      "Traceback (most recent call last):\n",
      "  File \"<ipython-input-36-cd01e0676244>\", line 10, in testCounts\n",
      "    for a in busiestAppTraffic(mobile_miner_cursor)]),'ascii')).hexdigest()\n",
      "  File \"<ipython-input-36-cd01e0676244>\", line 22, in busiestAppTraffic\n",
      "    \"SELECT process, app, COUNT(port) AS count FROM networktraffic GROUP BY process, app ORDER BY process, count DESC\")\n",
      "sqlite3.OperationalError: no such column: app\n",
      "\n",
      "----------------------------------------------------------------------\n",
      "Ran 2 tests in 0.005s\n",
      "\n",
      "FAILED (errors=2)\n"
     ]
    }
   ],
   "source": [
    "class TestBusiestAppTraffic(TestCase):\n",
    "    \n",
    "    def testAppOrder(self):\n",
    "        hsh = hashlib.sha224(bytes(' '.join([a['app'] for a in busiestAppTraffic(mobile_miner_cursor)]),\n",
    "            'ascii')).hexdigest()\n",
    "        self.assertEqual(hsh, 'ef533305f05261e0867782d66de6066a7451602e0050535b38ba8aad')\n",
    "    \n",
    "    def testCounts(self):\n",
    "        hsh = hashlib.sha224(bytes(' '.join([a['count'].__str__()\n",
    "            for a in busiestAppTraffic(mobile_miner_cursor)]),'ascii')).hexdigest()\n",
    "        self.assertEqual(hsh, '779e97159f1c65fcc66f6e2232e4f24c4efa88cf6e42c7f7da1506ed')\n",
    "\n",
    "        \n",
    "def getTrafficProcesses(cursor):\n",
    "    # Your code here:\n",
    "    mobile_miner_cursor.execute(\"SELECT process, app, COUNT(port) AS count FROM networktraffic GROUP BY process, app\")\n",
    "    mobile_miner_cursor.fetchall()\n",
    "    return [t[0] for t in cursor.fetchall()]\n",
    "\n",
    "def busiestAppTraffic(cursor):\n",
    "    mobile_miner_cursor.execute(\n",
    "    \"SELECT process, app, COUNT(port) AS count FROM networktraffic GROUP BY process, app ORDER BY process, count DESC\")\n",
    "    pass\n",
    "\n",
    "runTest(TestBusiestAppTraffic)"
   ]
  },
  {
   "cell_type": "markdown",
   "metadata": {},
   "source": [
    "That one was hard work, let's look at the results:"
   ]
  },
  {
   "cell_type": "code",
   "execution_count": null,
   "metadata": {
    "collapsed": true,
    "scrolled": true
   },
   "outputs": [],
   "source": [
    "busiestAppTraffic(mobile_miner_cursor)"
   ]
  },
  {
   "cell_type": "markdown",
   "metadata": {},
   "source": [
    "## Part 5: Investigating Mobile Cell Towers\n",
    "Take a look at the \"gsmcell\" table. The key columns are the mobile country code, the mobile network code, the local area code, and the cell ID."
   ]
  },
  {
   "cell_type": "code",
   "execution_count": null,
   "metadata": {
    "collapsed": true
   },
   "outputs": [],
   "source": [
    "getTableFields(mobile_miner_cursor, 'gsmcell')"
   ]
  },
  {
   "cell_type": "markdown",
   "metadata": {},
   "source": [
    "\"miner_cells\" is a list of all the cell towers the Android 'phone connected to: "
   ]
  },
  {
   "cell_type": "code",
   "execution_count": null,
   "metadata": {
    "collapsed": true
   },
   "outputs": [],
   "source": [
    "mobile_miner_cursor.execute(\"SELECT DISTINCT mcc,mnc,lac,cid FROM gsmcell WHERE NOT cid = 'None'\")\n",
    "miner_cells = mobile_miner_cursor.fetchall()\n",
    "miner_cells[0:5]"
   ]
  },
  {
   "cell_type": "markdown",
   "metadata": {},
   "source": [
    "Writing \"WHERE\" clauses with four conditions is tedious, so here's the \"whereAll\" function to help, if you like. Have a look at what it does, don't worry *too* much if you can't see how it does it. (Are you addicted to [zip](https://docs.python.org/3.6/library/functions.html#zip) yet?)"
   ]
  },
  {
   "cell_type": "code",
   "execution_count": null,
   "metadata": {
    "collapsed": true
   },
   "outputs": [],
   "source": [
    "def whereAll(values, columns=['mcc','mnc','lac','cid']):\n",
    "    return \" WHERE \" + ' AND '.join([' = '.join([col,val]) for val,col in zip(values,columns)])\n",
    "\n",
    "whereAll(miner_cells[0])"
   ]
  },
  {
   "cell_type": "code",
   "execution_count": null,
   "metadata": {
    "collapsed": true
   },
   "outputs": [],
   "source": [
    "getTableFields(cell_tower_cursor, 'gsmlocation')"
   ]
  },
  {
   "cell_type": "markdown",
   "metadata": {},
   "source": [
    "We're going to use the cell_tower_cursor now, the database has all the UK cell towers known to the [OpenCellID database](https://opencellid.org/) Look up the lattitudes and longitudes of every cell in \"miner_cells\". Return a list of (lat,long) tuples. Not every cell will be known to the datbase, do not return any empty rows."
   ]
  },
  {
   "cell_type": "code",
   "execution_count": null,
   "metadata": {
    "collapsed": true
   },
   "outputs": [],
   "source": [
    "class TestGetCellLocation(TestCase):\n",
    "    \n",
    "    def testCount(self):\n",
    "        self.assertEqual(len(getCellLocations()),13)\n",
    "        \n",
    "    def testValues(self):\n",
    "        lat, lon = list(zip(*getCellLocations()))\n",
    "        lon_hash = hashlib.sha224(bytes(' '.join(lon),'ascii')).hexdigest()\n",
    "        self.assertEqual(lon_hash, '9d90b67b1a4a3cd2d9772bff7158c8cc8002c62010a25fcf26b2826e')\n",
    "        lat_hash = hashlib.sha224(bytes(' '.join(lat),'ascii')).hexdigest()\n",
    "        self.assertEqual(lat_hash, 'ffbc715902d50191bacde877603f3cb2e463081c02e775ec59666b66')\n",
    "        \n",
    "def getCellLocations(cursor=cell_tower_cursor, towers=miner_cells):\n",
    "    # Your code here...\n",
    "    pass\n",
    "\n",
    "runTest(TestGetCellLocation)"
   ]
  },
  {
   "cell_type": "markdown",
   "metadata": {},
   "source": [
    "The function takes a little while to run, so we'll keep the results in \"miner_locations\"."
   ]
  },
  {
   "cell_type": "code",
   "execution_count": null,
   "metadata": {
    "collapsed": true
   },
   "outputs": [],
   "source": [
    "miner_locations = getCellLocations()"
   ]
  },
  {
   "cell_type": "markdown",
   "metadata": {},
   "source": [
    "Now we've got the cell locations, let's plot them on a map. Make sure you have the [Folium library](https://folium.readthedocs.io/en/latest/) installed."
   ]
  },
  {
   "cell_type": "code",
   "execution_count": null,
   "metadata": {
    "collapsed": true
   },
   "outputs": [],
   "source": [
    "import statistics\n",
    "\n",
    "import folium\n",
    "\n",
    "lattitude, longitude = list(zip(*miner_locations))\n",
    "# The locations are returned as strings. Turn them back into floats:\n",
    "lat = list(map(float,lattitude))\n",
    "lon = list(map(float,longitude))\n",
    "centre = [statistics.mean(lat),statistics.mean(lon)]\n",
    "cell_map = folium.Map(location=centre, zoom_start=12)\n",
    "for point in zip(lat,lon):\n",
    "    folium.Marker(point).add_to(cell_map)\n",
    "cell_map"
   ]
  },
  {
   "cell_type": "markdown",
   "metadata": {},
   "source": [
    "## Part 6: Inserting Data\n",
    "Let's put the cell location data into the empty \"gsmlocation\" table where it can be of some use. You'll need the\n",
    "columns 'mcc', 'mnc', 'lac', 'cid', 'lat', 'long'. Combine the \"miner_cells\" and \"miner_locations\" lists to form the tuples. The test will drop and recreate the table for you each time you run it. The standard library documentation will be a big help. Remember to use \"mobile_miner_conn.commit()\"."
   ]
  },
  {
   "cell_type": "code",
   "execution_count": null,
   "metadata": {
    "collapsed": true
   },
   "outputs": [],
   "source": [
    "# Clue: Merging tuples is easy!\n",
    "(1,2,3) + (4,5,6)"
   ]
  },
  {
   "cell_type": "code",
   "execution_count": null,
   "metadata": {
    "collapsed": true
   },
   "outputs": [],
   "source": [
    "class TestPushCellLOcations(TestCase):\n",
    "    \n",
    "    def setUp(self):\n",
    "\n",
    "            try:\n",
    "                mobile_miner_cursor.execute('DROP TABLE gsmlocation')\n",
    "                mobile_miner_conn.commit()\n",
    "            except:\n",
    "                pass\n",
    "            \n",
    "            try:\n",
    "                mobile_miner_cursor.execute('''CREATE TABLE gsmlocation(id INTEGER PRIMARY KEY,\n",
    "                mcc TEXT, mnc TEXT, lac TEXT, cid TEXT, lat TEXT, long TEXT)''')\n",
    "                mobile_miner_conn.commit()\n",
    "            except:\n",
    "                pass\n",
    "            \n",
    "    def testContent(self):\n",
    "        pushCellLOcations()\n",
    "        mobile_miner_cursor.execute(\"SELECT * FROM gsmlocation\")\n",
    "        content = ' '.join([' '.join(r[1:]) for r in mobile_miner_cursor.fetchall()])\n",
    "        content_hash = hashlib.sha224(bytes(content,'ascii')).hexdigest()\n",
    "        self.assertEqual(content_hash,'500c72d0f6f5993965d514cc42c88ab2a2693249c8de9763c551269f')\n",
    "\n",
    "def pushCellLOcations(cursor=mobile_miner_cursor, cells=miner_cells, locations=miner_locations):\n",
    "    # Your code here:\n",
    "    pass\n",
    "    \n",
    "runTest(TestPushCellLOcations)"
   ]
  },
  {
   "cell_type": "markdown",
   "metadata": {},
   "source": [
    "Now we can join the \"gsmcell\" and \"gsmlocation\" location tables togther, into one big table. The rows are combined so that all the cell IDs match. This gives the time and location of each visit to a known cell tower:"
   ]
  },
  {
   "cell_type": "code",
   "execution_count": null,
   "metadata": {
    "collapsed": true
   },
   "outputs": [],
   "source": [
    "mobile_miner_cursor.execute('SELECT time, lat, long FROM gsmcell NATURAL JOIN gsmlocation')\n",
    "mobile_miner_cursor.fetchall()[0:10]"
   ]
  },
  {
   "cell_type": "code",
   "execution_count": null,
   "metadata": {
    "collapsed": true
   },
   "outputs": [],
   "source": [
    "def testAll():\n",
    "    all_the_tests = [TestGetTrafficProcesses, TestGetProcessPorts, TestGetUdpEvents, TestBusiestAppTraffic,\n",
    "        TestGetCellLocation, TestPushCellLOcations]\n",
    "    total_tests = 0\n",
    "    total_passes = 0\n",
    "    runner = TextTestRunner(verbosity=0)\n",
    "    for test in all_the_tests:\n",
    "        suite = TestLoader().loadTestsFromModule(test())\n",
    "        count = suite.countTestCases()\n",
    "        total_tests += count\n",
    "        result = runner.run(suite)\n",
    "        total_passes += count - len(result.errors) - len(result.failures)\n",
    "        print()\n",
    "    return total_tests, total_passes\n",
    "\n",
    "tests, passes = testAll()"
   ]
  },
  {
   "cell_type": "code",
   "execution_count": null,
   "metadata": {
    "collapsed": true
   },
   "outputs": [],
   "source": [
    "print('tests run:', tests)\n",
    "print('tests passed:', passes)"
   ]
  },
  {
   "cell_type": "markdown",
   "metadata": {},
   "source": [
    "![xkcd 327](https://imgs.xkcd.com/comics/exploits_of_a_mom.png)\n",
    "([xkcd](https://xkcd.com/327/))"
   ]
  }
 ],
 "metadata": {
  "kernelspec": {
   "display_name": "Python 3",
   "language": "python",
   "name": "python3"
  },
  "language_info": {
   "codemirror_mode": {
    "name": "ipython",
    "version": 3
   },
   "file_extension": ".py",
   "mimetype": "text/x-python",
   "name": "python",
   "nbconvert_exporter": "python",
   "pygments_lexer": "ipython3",
   "version": "3.6.2"
  }
 },
 "nbformat": 4,
 "nbformat_minor": 1
}
