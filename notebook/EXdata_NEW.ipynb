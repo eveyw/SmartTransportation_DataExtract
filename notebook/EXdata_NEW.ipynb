{
 "cells": [
  {
   "cell_type": "markdown",
   "metadata": {},
   "source": [
    "## bus route project"
   ]
  },
  {
   "cell_type": "markdown",
   "metadata": {},
   "source": [
    "#### 1.装module"
   ]
  },
  {
   "cell_type": "code",
   "execution_count": 1,
   "metadata": {
    "collapsed": true
   },
   "outputs": [],
   "source": [
    "import pandas as pd\n",
    "import csv\n",
    "import os.path\n",
    "from itertools import islice\n",
    "import openpyxl\n",
    "import xlrd"
   ]
  },
  {
   "cell_type": "markdown",
   "metadata": {},
   "source": [
    "#### 2.这一步读表 把你的表放到双引号里 "
   ]
  },
  {
   "cell_type": "code",
   "execution_count": 2,
   "metadata": {
    "scrolled": true
   },
   "outputs": [
    {
     "name": "stdout",
     "output_type": "stream",
     "text": [
      "6\n"
     ]
    }
   ],
   "source": [
    "table = xlrd.open_workbook('0925_1105.xlsx')\n",
    "print(len(table.sheets())) #输出有几个子表"
   ]
  },
  {
   "cell_type": "markdown",
   "metadata": {},
   "source": [
    "#### 3.分别提取子表"
   ]
  },
  {
   "cell_type": "code",
   "execution_count": 3,
   "metadata": {
    "collapsed": true
   },
   "outputs": [],
   "source": [
    "sheet_1 = table.sheets()[0]\n",
    "sheet_2 = table.sheets()[1]#获取第2个表\n",
    "sheet_3 = table.sheets()[2]\n",
    "sheet_4 = table.sheets()[3]\n",
    "sheet_5 = table.sheets()[4]\n",
    "sheet_6 = table.sheets()[5]"
   ]
  },
  {
   "cell_type": "markdown",
   "metadata": {},
   "source": [
    "##### 例：此处使用表3 \n",
    "#### 4.分别读每一列的周几"
   ]
  },
  {
   "cell_type": "code",
   "execution_count": 4,
   "metadata": {
    "collapsed": true
   },
   "outputs": [],
   "source": [
    "Mondf_3 = sheet_6.col_values(0)\n",
    "Tuedf_3 = sheet_6.col_values(1)\n",
    "Weddf_3 = sheet_6.col_values(2)\n",
    "Thudf_3 = sheet_6.col_values(3)\n",
    "Fridf_3 = sheet_6.col_values(4)\n",
    "Satdf_3 = sheet_6.col_values(5)\n",
    "Sundf_3 = sheet_6.col_values(6)"
   ]
  },
  {
   "cell_type": "code",
   "execution_count": 5,
   "metadata": {
    "collapsed": true
   },
   "outputs": [],
   "source": [
    "# 转变为dataframe格式\n",
    "df1 = pd.DataFrame(Mondf_3)\n",
    "df2 = pd.DataFrame(Tuedf_3)\n",
    "df3 = pd.DataFrame(Weddf_3)\n",
    "df4 = pd.DataFrame(Thudf_3)\n",
    "df5 = pd.DataFrame(Fridf_3)\n",
    "df6 = pd.DataFrame(Satdf_3)\n",
    "df7 = pd.DataFrame(Sundf_3)"
   ]
  },
  {
   "cell_type": "markdown",
   "metadata": {},
   "source": [
    "#### 5.跳过前两行： 周几 和 日期， 如果表内本来就没有就不用"
   ]
  },
  {
   "cell_type": "code",
   "execution_count": 6,
   "metadata": {
    "collapsed": true
   },
   "outputs": [],
   "source": [
    "df1 = df1.iloc[2:,]\n",
    "df2 = df2.iloc[2:,]\n",
    "df3 = df3.iloc[2:,]\n",
    "df4 = df4.iloc[2:,]\n",
    "df5 = df5.iloc[2:,]\n",
    "df6 = df6.iloc[2:,]\n",
    "df7 = df7.iloc[2:,]"
   ]
  },
  {
   "cell_type": "markdown",
   "metadata": {},
   "source": [
    "#### 6.知道应有多少行数据，需要你看输出数值，决定之后用的范围，此处我们用 106"
   ]
  },
  {
   "cell_type": "code",
   "execution_count": 7,
   "metadata": {},
   "outputs": [
    {
     "name": "stdout",
     "output_type": "stream",
     "text": [
      "114.0\n",
      "114.0\n",
      "114.0\n",
      "114.0\n",
      "114.0\n",
      "114.0\n",
      "114.0\n"
     ]
    }
   ],
   "source": [
    "#take a look of data length\n",
    "mylist = [df1, df2, df3, df4, df5, df6, df7]\n",
    "for i in mylist:\n",
    "    print(len(i) / 3.)"
   ]
  },
  {
   "cell_type": "markdown",
   "metadata": {},
   "source": [
    "#### 7.整合每三行数据\n",
    "正常的没有空缺都使用这个code"
   ]
  },
  {
   "cell_type": "code",
   "execution_count": 8,
   "metadata": {
    "collapsed": true
   },
   "outputs": [],
   "source": [
    "Monline3_1 = []\n",
    "for i in range(114):\n",
    "    a = i * 3\n",
    "    b = a + 3\n",
    "    lines = df1.iloc[a:b] # select every 3 rows\n",
    "    newline = lines.iloc[0] +','+ lines.iloc[1] +','+ lines.iloc[2]\n",
    "    Monline3_1.append(newline) "
   ]
  },
  {
   "cell_type": "markdown",
   "metadata": {},
   "source": [
    "#### 针对有一个空缺，注意range(48, 83)是根据你看到的从第几行到第几行是错位的写的"
   ]
  },
  {
   "cell_type": "code",
   "execution_count": 9,
   "metadata": {
    "collapsed": true
   },
   "outputs": [],
   "source": [
    "Monline3_2 = []\n",
    "for i in range(48, 83):\n",
    "    a = i * 3 - 1\n",
    "    b = a + 3\n",
    "    lines = df1.iloc[a:b] # select every 3 rows\n",
    "    newline = lines.iloc[0] +','+ lines.iloc[1] +','+ lines.iloc[2]\n",
    "    Monline3_2.append(newline) "
   ]
  },
  {
   "cell_type": "markdown",
   "metadata": {},
   "source": [
    "#### 针对有两个空缺 所以这一天将会由三个部分组成：Monline3_1， Monline3_2，Monline3_3\n",
    "由于有两处错位 范围止于107 而不是106"
   ]
  },
  {
   "cell_type": "code",
   "execution_count": 10,
   "metadata": {
    "collapsed": true
   },
   "outputs": [],
   "source": [
    "Monline3_3 = []\n",
    "for i in range(83,113):\n",
    "    a = i * 3 - 2\n",
    "    b = a + 3\n",
    "    lines = df1.iloc[a:b] # select every 3 rows\n",
    "    newline = lines.iloc[0] +','+ lines.iloc[1] +','+ lines.iloc[2]\n",
    "    Monline3_3.append(newline) "
   ]
  },
  {
   "cell_type": "markdown",
   "metadata": {},
   "source": [
    "##### 周二 周三 周四 。。分别做 "
   ]
  },
  {
   "cell_type": "code",
   "execution_count": 9,
   "metadata": {
    "collapsed": true
   },
   "outputs": [],
   "source": [
    "#此处周二没有空缺 直接使用range（106）\n",
    "Tueline_3 = []\n",
    "for i in range(114):\n",
    "    a = i * 3\n",
    "    b = a + 3\n",
    "    lines = df2.iloc[a:b] # select every 3 rows\n",
    "    newline = lines.iloc[0] +','+ lines.iloc[1] +','+ lines.iloc[2]\n",
    "    Tueline_3.append(newline) "
   ]
  },
  {
   "cell_type": "code",
   "execution_count": 10,
   "metadata": {
    "collapsed": true
   },
   "outputs": [],
   "source": [
    "Wedline3_1 = []\n",
    "for i in range(114):\n",
    "    a = i * 3\n",
    "    b = a + 3\n",
    "    lines = df3.iloc[a:b] # select every 3 rows\n",
    "    newline = lines.iloc[0] +','+ lines.iloc[1] +','+ lines.iloc[2]\n",
    "    Wedline3_1.append(newline) "
   ]
  },
  {
   "cell_type": "code",
   "execution_count": 11,
   "metadata": {
    "collapsed": true
   },
   "outputs": [],
   "source": [
    "Wedline3_2 = []\n",
    "for i in range(47, 81):\n",
    "    a = i * 3 - 1\n",
    "    b = a + 3\n",
    "    lines = df3.iloc[a:b] # select every 3 rows\n",
    "    newline = lines.iloc[0] +','+ lines.iloc[1] +','+ lines.iloc[2]\n",
    "    Wedline3_2.append(newline) "
   ]
  },
  {
   "cell_type": "code",
   "execution_count": 14,
   "metadata": {
    "collapsed": true
   },
   "outputs": [],
   "source": [
    "Wedline3_3 = []\n",
    "for i in range(81, 113):\n",
    "    a = i * 3 - 2\n",
    "    b = a + 3\n",
    "    lines = df3.iloc[a:b] # select every 3 rows\n",
    "    newline = lines.iloc[0] +','+ lines.iloc[1] +','+ lines.iloc[2]\n",
    "    Wedline3_3.append(newline) "
   ]
  },
  {
   "cell_type": "markdown",
   "metadata": {},
   "source": [
    "#### 输入变量名检查"
   ]
  },
  {
   "cell_type": "code",
   "execution_count": 529,
   "metadata": {
    "scrolled": true
   },
   "outputs": [
    {
     "data": {
      "text/plain": [
       "[0    Sunrise Pre-trip ALPHA,6:30 AM - 7:00 AM,Jorge...\n",
       " dtype: object, 0    Sunrise Pre-trip BETA,6:30 AM - 7:00 AM,Reece ...\n",
       " dtype: object, 0    Sunrise Pre-trip CHI,6:30 AM - 7:00 AM,Victor ...\n",
       " dtype: object, 0    Sunrise Pre-trip CS A,6:30 AM - 7:00 AM,Christ...\n",
       " dtype: object, 0    Sunrise Pre-trip OMEGA,6:30 AM - 7:00 AM,Danie...\n",
       " dtype: object, 0    Sunrise Pre-trip DELTA,6:45 AM - 7:15 AM,Shena...\n",
       " dtype: object, 0    Sunrise Pre-trip EPSILON,6:45 AM - 7:15 AM,Ped...\n",
       " dtype: object, 0    Lift I,7:00 AM - 9:30 AM,Peter Guzewich\n",
       " dtype: object, 0    Sunrise ALPHA,7:00 AM - 8:45 AM,Jorge Fernando...\n",
       " dtype: object, 0    Sunrise BETA,7:00 AM - 8:40 AM,Reece Pyankaroo\n",
       " dtype: object, 0    Sunrise CHI,7:00 AM - 9:00 AM,Victor Santana A...\n",
       " dtype: object, 0    Sunrise CS A,7:00 AM - 9:00 AM,Christopher Block\n",
       " dtype: object, 0    Sunrise OMEGA,7:00 AM - 9:00 AM,Daniel Asante\n",
       " dtype: object, 0    Sunrise Pre-trip CS B,7:00 AM - 7:30 AM,Corbin...\n",
       " dtype: object, 0    Sunrise Pre-trip CS C,7:00 AM - 7:30 AM,Gaddi ...\n",
       " dtype: object, 0    Sunrise Pre-trip GAMMA,7:00 AM - 7:30 AM,Qimin...\n",
       " dtype: object, 0    Sunrise Pre-trip ZETA,7:00 AM - 7:30 AM,Thomas...\n",
       " dtype: object, 0    Sunrise DELTA,7:15 AM - 8:30 AM,Shenandoah Gra...\n",
       " dtype: object, 0    Sunrise EPSILON,7:15 AM - 8:30 AM,Pedro Cordero\n",
       " dtype: object, 0    Sunrise CS B,7:30 AM - 9:15 AM,Corbin Hargadon\n",
       " dtype: object, 0    Sunrise CS C,7:30 AM - 9:30 AM,Gaddi Eshun\n",
       " dtype: object, 0    Sunrise GAMMA,7:30 AM - 9:00 AM,Qiming Zou\n",
       " dtype: object, 0    Sunrise ZETA,7:30 AM - 9:30 AM,Thomas Burns\n",
       " dtype: object, 0    AM DELTA,8:30 AM - 10:30 AM,Shenandoah Graiser\n",
       " dtype: object, 0    AM EPSILON,8:30 AM - 10:15 AM,Pedro Cordero\n",
       " dtype: object, 0    AM BETA,8:40 AM - 10:30 AM,Reece Pyankaroo\n",
       " dtype: object, 0    AM ALPHA,8:45 AM - 10:40 AM,Deborah Musselman\n",
       " dtype: object, 0    AM CHI,9:00 AM - 10:30 AM,Victor Santana Aguilera\n",
       " dtype: object, 0    AM CS A,9:00 AM - 11:00 AM,Travis Allen\n",
       " dtype: object, 0    AM GAMMA,9:00 AM - 11:00 AM,Qiming Zou\n",
       " dtype: object, 0    AM OMEGA,9:00 AM - 11:00 AM,Daniel Asante\n",
       " dtype: object, 0    AM CS B,9:15 AM - 11:15 AM,Corbin Hargadon\n",
       " dtype: object, 0    AM CS C,9:30 AM - 11:30 AM,Kyle Hussong\n",
       " dtype: object, 0    AM ZETA,9:30 AM - 11:30 AM,Zachary Galluzzo\n",
       " dtype: object, 0    Lift II,9:30 AM - 11:45 AM,Brian Chambers-Graham\n",
       " dtype: object, 0    Mid EPSILON,10:15 AM - 12:30 PM,Naveed Tariq\n",
       " dtype: object, 0    Mid BETA,10:30 AM - 12:30 PM,Reece Pyankaroo\n",
       " dtype: object, 0    Mid CHI,10:30 AM - 12:30 PM,Patrick Curran\n",
       " dtype: object, 0    Mid DELTA,10:30 AM - 12:00 PM,Anna Sirota\n",
       " dtype: object, 0    Mid ALPHA,10:40 AM - 12:15 PM,Harrison Kaye\n",
       " dtype: object, 0    Mid CS A,11:00 AM - 1:00 PM,Shenandoah Graiser\n",
       " dtype: object, 0    Mid GAMMA,11:00 AM - 1:00 PM,Qiming Zou\n",
       " dtype: object, 0    Mid OMEGA,11:00 AM - 1:00 PM,Daniel Asante\n",
       " dtype: object, 0    Mid CS B,11:15 AM - 1:30 PM,Sabine Petite-Frere\n",
       " dtype: object, 0    Mid CS C,11:30 AM - 1:20 PM,Kyle Hussong\n",
       " dtype: object, 0    Mid ZETA,11:30 AM - 1:20 PM,Mohamed Saleem\n",
       " dtype: object, 0    Lift III,11:45 AM - 1:30 PM,Noon DELTA\n",
       " dtype: object]"
      ]
     },
     "execution_count": 529,
     "metadata": {},
     "output_type": "execute_result"
    }
   ],
   "source": [
    "Wedline3_1"
   ]
  },
  {
   "cell_type": "code",
   "execution_count": 12,
   "metadata": {
    "collapsed": true
   },
   "outputs": [],
   "source": [
    "Thuline_3 = []\n",
    "for i in range(114):\n",
    "    a = i * 3\n",
    "    b = a + 3\n",
    "    lines = df4.iloc[a:b] # select every 3 rows\n",
    "    newline = lines.iloc[0] +','+ lines.iloc[1] +','+ lines.iloc[2]\n",
    "    Thuline_3.append(newline) "
   ]
  },
  {
   "cell_type": "code",
   "execution_count": 13,
   "metadata": {
    "collapsed": true
   },
   "outputs": [],
   "source": [
    "Friline3_1 = []\n",
    "for i in range(114):\n",
    "    a = i * 3\n",
    "    b = a + 3\n",
    "    lines = df5.iloc[a:b] # select every 3 rows\n",
    "    newline = lines.iloc[0] +','+ lines.iloc[1] +','+ lines.iloc[2]\n",
    "    Friline3_1.append(newline) "
   ]
  },
  {
   "cell_type": "code",
   "execution_count": 14,
   "metadata": {
    "collapsed": true
   },
   "outputs": [],
   "source": [
    "Friline3_2 = []\n",
    "for i in range(84,107):\n",
    "    a = i * 3 - 1\n",
    "    b = a + 3\n",
    "    lines = df5.iloc[a:b] # select every 3 rows\n",
    "    newline = lines.iloc[0] +','+ lines.iloc[1] +','+ lines.iloc[2]\n",
    "    Friline3_2.append(newline) "
   ]
  },
  {
   "cell_type": "code",
   "execution_count": 15,
   "metadata": {
    "collapsed": true
   },
   "outputs": [],
   "source": [
    "Satline_3 = []\n",
    "for i in range(114):\n",
    "    a = i * 3\n",
    "    b = a + 3\n",
    "    lines = df6.iloc[a:b] # select every 3 rows\n",
    "    newline = lines.iloc[0] +','+ lines.iloc[1] +','+ lines.iloc[2]\n",
    "    Satline_3.append(newline) "
   ]
  },
  {
   "cell_type": "code",
   "execution_count": 16,
   "metadata": {
    "collapsed": true
   },
   "outputs": [],
   "source": [
    "Sunline_3 = []\n",
    "for i in range(114):\n",
    "    a = i * 3\n",
    "    b = a + 3\n",
    "    lines = df7.iloc[a:b] # select every 3 rows\n",
    "    newline = lines.iloc[0] +','+ lines.iloc[1] +','+ lines.iloc[2]\n",
    "    Sunline_3.append(newline) "
   ]
  },
  {
   "cell_type": "markdown",
   "metadata": {},
   "source": [
    "#### 8.输出结果 然后自己在excel里复制粘贴到一个表里"
   ]
  },
  {
   "cell_type": "code",
   "execution_count": 17,
   "metadata": {
    "collapsed": true
   },
   "outputs": [],
   "source": [
    "# export csv file\n",
    "df = pd.DataFrame(Monline3_1)\n",
    "df.to_csv('Mon3_1.csv')\n",
    "#df = pd.DataFrame(Monline3_2)\n",
    "#df.to_csv('Mon3_2.csv')\n",
    "#df = pd.DataFrame(Monline3_3)\n",
    "#df.to_csv('Mon3_3.csv')\n",
    "\n",
    "df = pd.DataFrame(Tueline_3)\n",
    "df.to_csv('Tue3.csv')\n",
    "df = pd.DataFrame(Wedline3_1)\n",
    "df.to_csv('Wed3_1.csv')\n",
    "#df = pd.DataFrame(Wedline3_2)\n",
    "#df.to_csv('Wed3_2.csv')\n",
    "#df = pd.DataFrame(Wedline3_3)\n",
    "#df.to_csv('Wed3_3.csv')\n",
    "\n",
    "df = pd.DataFrame(Thuline_3)\n",
    "df.to_csv('Thu3.csv')\n",
    "\n",
    "df = pd.DataFrame(Friline3_1)\n",
    "df.to_csv('Fri3_1.csv')\n",
    "#df = pd.DataFrame(Friline3_2)\n",
    "#df.to_csv('Fri3_2.csv')\n",
    "\n",
    "df = pd.DataFrame(Satline_3)\n",
    "df.to_csv('Sat3.csv')\n",
    "df = pd.DataFrame(Sunline_3)\n",
    "df.to_csv('Sun3.csv')"
   ]
  },
  {
   "cell_type": "markdown",
   "metadata": {},
   "source": [
    "#### 以上是一个周期，下面是之前做的表二，步骤与上相同可以不看"
   ]
  },
  {
   "cell_type": "markdown",
   "metadata": {},
   "source": [
    "* 表2"
   ]
  },
  {
   "cell_type": "code",
   "execution_count": 289,
   "metadata": {
    "collapsed": true,
    "scrolled": true
   },
   "outputs": [],
   "source": [
    "#table.row_values(i) \n",
    "Mondf_2 = sheet_2.col_values(0)\n",
    "Tuedf_2 = sheet_2.col_values(1)\n",
    "Weddf_2 = sheet_2.col_values(2)\n",
    "Thudf_2 = sheet_2.col_values(3)\n",
    "Fridf_2 = sheet_2.col_values(4)\n",
    "Satdf_2 = sheet_2.col_values(5)\n",
    "Sundf_2 = sheet_2.col_values(6)"
   ]
  },
  {
   "cell_type": "code",
   "execution_count": 302,
   "metadata": {
    "collapsed": true
   },
   "outputs": [],
   "source": [
    "df1 = pd.DataFrame(Mondf_2)\n",
    "df2 = pd.DataFrame(Tuedf_2)\n",
    "df3 = pd.DataFrame(Weddf_2)\n",
    "df4 = pd.DataFrame(Thudf_2)\n",
    "df5 = pd.DataFrame(Fridf_2)\n",
    "df6 = pd.DataFrame(Satdf_2)\n",
    "df7 = pd.DataFrame(Sundf_2)"
   ]
  },
  {
   "cell_type": "code",
   "execution_count": 304,
   "metadata": {
    "collapsed": true,
    "scrolled": true
   },
   "outputs": [],
   "source": [
    "df1 = df1.iloc[2:,]\n",
    "df2 = df2.iloc[2:,]\n",
    "df3 = df3.iloc[2:,]\n",
    "df4 = df4.iloc[2:,]\n",
    "df5 = df5.iloc[2:,]\n",
    "df6 = df6.iloc[2:,]\n",
    "df7 = df7.iloc[2:,]"
   ]
  },
  {
   "cell_type": "code",
   "execution_count": 307,
   "metadata": {},
   "outputs": [
    {
     "name": "stdout",
     "output_type": "stream",
     "text": [
      "112.666666667\n",
      "112.666666667\n",
      "112.666666667\n",
      "112.666666667\n",
      "112.666666667\n",
      "112.666666667\n",
      "112.666666667\n"
     ]
    }
   ],
   "source": [
    "#take a look of data length\n",
    "mylist = [df1, df2, df3, df4, df5, df6, df7]\n",
    "for i in mylist:\n",
    "    print(len(i) / 3.)"
   ]
  },
  {
   "cell_type": "code",
   "execution_count": 310,
   "metadata": {
    "collapsed": true
   },
   "outputs": [],
   "source": [
    "Monline_2 = []\n",
    "for i in range(112):\n",
    "    a = i * 3\n",
    "    b = a + 3\n",
    "    lines = df1.iloc[a:b] # select every 3 rows\n",
    "    newline = lines.iloc[0] +','+ lines.iloc[1] +','+ lines.iloc[2]\n",
    "    Monline_2.append(newline) "
   ]
  },
  {
   "cell_type": "code",
   "execution_count": 311,
   "metadata": {
    "collapsed": true
   },
   "outputs": [],
   "source": [
    "Tueline_2 = []\n",
    "for i in range(112):\n",
    "    a = i * 3\n",
    "    b = a + 3\n",
    "    lines = df2.iloc[a:b] # select every 3 rows\n",
    "    newline = lines.iloc[0] +','+ lines.iloc[1] +','+ lines.iloc[2]\n",
    "    Tueline_2.append(newline) "
   ]
  },
  {
   "cell_type": "code",
   "execution_count": 397,
   "metadata": {
    "collapsed": true
   },
   "outputs": [],
   "source": [
    "Wedline_2 = []\n",
    "for i in range(112):\n",
    "    a = i * 3\n",
    "    b = a + 3\n",
    "    lines = df3.iloc[a:b] # select every 3 rows\n",
    "    newline = lines.iloc[0] +','+ lines.iloc[1] +','+ lines.iloc[2]\n",
    "    Wedline_2.append(newline) "
   ]
  },
  {
   "cell_type": "code",
   "execution_count": 313,
   "metadata": {
    "collapsed": true
   },
   "outputs": [],
   "source": [
    "Thuline_2 = []\n",
    "for i in range(112):\n",
    "    a = i * 3\n",
    "    b = a + 3\n",
    "    lines = df4.iloc[a:b] # select every 3 rows\n",
    "    newline = lines.iloc[0] +','+ lines.iloc[1] +','+ lines.iloc[2]\n",
    "    Thuline_2.append(newline) "
   ]
  },
  {
   "cell_type": "code",
   "execution_count": 421,
   "metadata": {
    "collapsed": true
   },
   "outputs": [],
   "source": [
    "Friline1_2 = []\n",
    "for i in range(90):\n",
    "    a = i * 3\n",
    "    b = a + 3\n",
    "    lines = df5.iloc[a:b] # select every 3 rows\n",
    "    newline = lines.iloc[0] +','+ lines.iloc[1] +','+ lines.iloc[2]\n",
    "    Friline1_2.append(newline) "
   ]
  },
  {
   "cell_type": "code",
   "execution_count": 438,
   "metadata": {
    "collapsed": true
   },
   "outputs": [],
   "source": [
    "Friline2_2 = []\n",
    "for i in range(90,113):\n",
    "    a = i * 3 -1 \n",
    "    b = a + 3\n",
    "    lines = df5.iloc[a:b] # select every 3 rows\n",
    "    newline = lines.iloc[0] +','+ lines.iloc[1] +','+ lines.iloc[2]\n",
    "    Friline2_2.append(newline) "
   ]
  },
  {
   "cell_type": "code",
   "execution_count": 439,
   "metadata": {
    "collapsed": true,
    "scrolled": true
   },
   "outputs": [],
   "source": [
    "df = pd.DataFrame(Friline1_2)\n",
    "df.to_csv('Fri1_2.csv')\n",
    "df = pd.DataFrame(Friline2_2)\n",
    "df.to_csv('Fri2_2.csv')"
   ]
  },
  {
   "cell_type": "code",
   "execution_count": 432,
   "metadata": {
    "collapsed": true
   },
   "outputs": [],
   "source": [
    "Satline1_2 = []\n",
    "for i in range(29):\n",
    "    a = i * 3\n",
    "    b = a + 3\n",
    "    lines = df6.iloc[a:b] # select every 3 rows\n",
    "    newline = lines.iloc[0] +','+ lines.iloc[1] +','+ lines.iloc[2]\n",
    "    Satline1_2.append(newline) "
   ]
  },
  {
   "cell_type": "code",
   "execution_count": 433,
   "metadata": {
    "collapsed": true
   },
   "outputs": [],
   "source": [
    "Satline2_2 = []\n",
    "for i in range(29,113):\n",
    "    a = i * 3 - 1\n",
    "    b = a + 3\n",
    "    lines = df6.iloc[a:b] # select every 3 rows\n",
    "    newline = lines.iloc[0] +','+ lines.iloc[1] +','+ lines.iloc[2]\n",
    "    Satline2_2.append(newline) "
   ]
  },
  {
   "cell_type": "code",
   "execution_count": 436,
   "metadata": {
    "collapsed": true,
    "scrolled": true
   },
   "outputs": [],
   "source": [
    "\n",
    "df = pd.DataFrame(Satline1_2)\n",
    "df.to_csv('Sat1_2.csv')\n",
    "df = pd.DataFrame(Satline2_2)\n",
    "df.to_csv('Sat2_2.csv')"
   ]
  },
  {
   "cell_type": "code",
   "execution_count": 316,
   "metadata": {
    "collapsed": true
   },
   "outputs": [],
   "source": [
    "Sunline_2 = []\n",
    "for i in range(112):\n",
    "    a = i * 3\n",
    "    b = a + 3\n",
    "    lines = df7.iloc[a:b] # select every 3 rows\n",
    "    newline = lines.iloc[0] +','+ lines.iloc[1] +','+ lines.iloc[2]\n",
    "    Sunline_2.append(newline) "
   ]
  },
  {
   "cell_type": "code",
   "execution_count": 437,
   "metadata": {
    "scrolled": false
   },
   "outputs": [
    {
     "data": {
      "text/plain": [
       "[0    Dispatch AM I,8:15 AM - 12:00 PM,Naveed Tariq\n",
       " dtype: object, 0    Stark ALPHA,8:15 AM - 11:30 AM,Daniel Rozhkov\n",
       " dtype: object, 0    Training with Natan (BUS 2),9:00 AM - 12:00 PM...\n",
       " dtype: object, 0    Stark BETA,9:15 AM - 12:00 PM,Qiming Zou\n",
       " dtype: object, 0    Stark CHI,9:30 AM - 11:45 AM,Philip Guinto\n",
       " dtype: object, 0    Stark DELTA,9:30 AM - 12:15 PM,Deborah Musselman\n",
       " dtype: object, 0    Stark EPSILON,9:30 AM - 12:00 PM,Nicolas Marjolin\n",
       " dtype: object, 0    Baratheon ALPHA,11:30 AM - 2:30 PM,Chloe Roth\n",
       " dtype: object, 0    Baratheon CHI,11:45 AM - 2:30 PM,Samuel Chosak\n",
       " dtype: object, 0    Baratheon BETA,12:00 PM - 2:15 PM,Anthony Ivanov\n",
       " dtype: object, 0    Baratheon EPSILON,12:00 PM - 2:45 PM,Marvel Tr...\n",
       " dtype: object, 0    Dispatch AM II,12:00 PM - 4:00 PM,Naveed Tariq\n",
       " dtype: object, 0    Baratheon DELTA,12:15 PM - 2:45 PM,Brian Warm\n",
       " dtype: object, 0    Training with Lizzia (BUS 1),1:30 PM - 4:30 PM...\n",
       " dtype: object, 0    Martell BETA,2:15 PM - 5:30 PM,Omer Atasever\n",
       " dtype: object, 0    Martell ALPHA,2:30 PM - 5:15 PM,Anthony Ivanov\n",
       " dtype: object, 0    Martell CHI,2:30 PM - 5:00 PM,Samuel Chosak\n",
       " dtype: object, 0    Martell DELTA,2:45 PM - 5:00 PM,Jorge Fernando...\n",
       " dtype: object, 0    Martell EPSILON,2:45 PM - 5:00 PM,Joanna Lojo\n",
       " dtype: object, 0    Dispatch PM I,4:00 PM - 8:30 PM,Janine Alto\n",
       " dtype: object, 0    Greyjoy CHI,5:00 PM - 7:45 PM,Gabrielle Aviles\n",
       " dtype: object, 0    Greyjoy DELTA,5:00 PM - 7:45 PM,Yonatan Hammerman\n",
       " dtype: object, 0    Greyjoy EPSILON,5:00 PM - 8:00 PM,Amy Merke\n",
       " dtype: object, 0    Greyjoy ALPHA,5:15 PM - 7:30 PM,Jessica Deturris\n",
       " dtype: object, 0    Greyjoy BETA,5:30 PM - 8:15 PM,Samuel Chosak\n",
       " dtype: object, 0    Targaryen ALPHA,7:30 PM - 10:00 PM,Nicolas Mar...\n",
       " dtype: object, 0    Targaryen CHI,7:45 PM - 10:30 PM,Anthony Ivanov\n",
       " dtype: object, 0    Targaryen DELTA,7:45 PM - 10:00 PM,Kevin Giacc...\n",
       " dtype: object, 0    Targaryen EPSILON,8:00 PM - 10:15 PM,Deborah M...\n",
       " dtype: object, 0    Targaryen BETA,8:15 PM - 10:30 PM,Timothy Akaka\n",
       " dtype: object, 0    Dispatch PM II,8:30 PM - 1:05 AM,Yonatan Hamme...\n",
       " dtype: object, 0    Lannister ALPHA,10:00 PM - 12:20 AM,Amy Merke\n",
       " dtype: object, 0    Lannister DELTA,10:00 PM - 1:05 AM,Kevin Giacc...\n",
       " dtype: object, 0    Lannister EPSILON,10:15 PM - 12:35 AM,Harrison...\n",
       " dtype: object, 0    Lannister BETA,10:30 PM - 1:05 AM,Deborah Muss...\n",
       " dtype: object, 0    Lannister CHI,10:30 PM - 1:05 AM,Adrian Antonio\n",
       " dtype: object, 0    ,,\n",
       " dtype: object, 0    ,,\n",
       " dtype: object, 0    ,,\n",
       " dtype: object, 0    ,,\n",
       " dtype: object, 0    ,,\n",
       " dtype: object, 0    ,,\n",
       " dtype: object, 0    ,,\n",
       " dtype: object, 0    ,,\n",
       " dtype: object, 0    ,,\n",
       " dtype: object, 0    ,,\n",
       " dtype: object, 0    ,,\n",
       " dtype: object, 0    ,,\n",
       " dtype: object, 0    ,,\n",
       " dtype: object, 0    ,,\n",
       " dtype: object, 0    ,,\n",
       " dtype: object, 0    ,,\n",
       " dtype: object, 0    ,,\n",
       " dtype: object, 0    ,,\n",
       " dtype: object, 0    ,,\n",
       " dtype: object, 0    ,,\n",
       " dtype: object, 0    ,,\n",
       " dtype: object, 0    ,,\n",
       " dtype: object, 0    ,,\n",
       " dtype: object, 0    ,,\n",
       " dtype: object, 0    ,,\n",
       " dtype: object, 0    ,,\n",
       " dtype: object, 0    ,,\n",
       " dtype: object, 0    ,,\n",
       " dtype: object, 0    ,,\n",
       " dtype: object, 0    ,,\n",
       " dtype: object, 0    ,,\n",
       " dtype: object, 0    ,,\n",
       " dtype: object, 0    ,,\n",
       " dtype: object, 0    ,,\n",
       " dtype: object, 0    ,,\n",
       " dtype: object, 0    ,,\n",
       " dtype: object, 0    ,,\n",
       " dtype: object, 0    ,,\n",
       " dtype: object, 0    ,,\n",
       " dtype: object, 0    ,,\n",
       " dtype: object, 0    ,,\n",
       " dtype: object, 0    ,,\n",
       " dtype: object, 0    ,,\n",
       " dtype: object, 0    ,,\n",
       " dtype: object, 0    ,,\n",
       " dtype: object, 0    ,,\n",
       " dtype: object, 0    ,,\n",
       " dtype: object, 0    ,,\n",
       " dtype: object, 0    ,,\n",
       " dtype: object, 0    ,,\n",
       " dtype: object, 0    ,,\n",
       " dtype: object, 0    ,,\n",
       " dtype: object, 0    ,,\n",
       " dtype: object, 0    ,,\n",
       " dtype: object, 0    ,,\n",
       " dtype: object, 0    ,,\n",
       " dtype: object, 0    ,,\n",
       " dtype: object, 0    ,,\n",
       " dtype: object, 0    ,,\n",
       " dtype: object, 0    ,,\n",
       " dtype: object, 0    ,,\n",
       " dtype: object, 0    ,,\n",
       " dtype: object, 0    ,,\n",
       " dtype: object, 0    ,,\n",
       " dtype: object, 0    ,,\n",
       " dtype: object, 0    ,,\n",
       " dtype: object, 0    ,,\n",
       " dtype: object, 0    ,,\n",
       " dtype: object, 0    ,,\n",
       " dtype: object, 0    ,,\n",
       " dtype: object, 0    ,,\n",
       " dtype: object, 0    ,,\n",
       " dtype: object, 0    ,,\n",
       " dtype: object, 0    ,,\n",
       " dtype: object, 0    ,,\n",
       " dtype: object, 0    ,,\n",
       " dtype: object]"
      ]
     },
     "execution_count": 437,
     "metadata": {},
     "output_type": "execute_result"
    }
   ],
   "source": [
    "Sunline_2"
   ]
  },
  {
   "cell_type": "code",
   "execution_count": 348,
   "metadata": {
    "collapsed": true
   },
   "outputs": [],
   "source": [
    "Wedline1_2 = []\n",
    "for i in range(47):\n",
    "    a = i * 3\n",
    "    b = a + 3\n",
    "    lines = df3.iloc[a:b] # select every 3 rows\n",
    "    newline = lines.iloc[0] +','+ lines.iloc[1] +','+ lines.iloc[2]\n",
    "    Wedline1_2.append(newline) "
   ]
  },
  {
   "cell_type": "code",
   "execution_count": 359,
   "metadata": {
    "collapsed": true
   },
   "outputs": [],
   "source": [
    "Wedline2_2 = []\n",
    "for i in range(47,68):\n",
    "    a = i * 3 - 1\n",
    "    b = a + 3\n",
    "    lines = df3.iloc[a:b] # select every 3 rows\n",
    "    newline = lines.iloc[0] +','+ lines.iloc[1] +','+ lines.iloc[2]\n",
    "    Wedline2_2.append(newline)  \n",
    "# range(47,99)"
   ]
  },
  {
   "cell_type": "code",
   "execution_count": 393,
   "metadata": {
    "collapsed": true
   },
   "outputs": [],
   "source": [
    "Wedline3_2 = []\n",
    "for i in range(68, 82):\n",
    "    a = i * 3 - 2\n",
    "    b = a + 3\n",
    "    lines = df3.iloc[a:b] # select every 3 rows\n",
    "    newline = lines.iloc[0] +','+ lines.iloc[1] +','+ lines.iloc[2]\n",
    "    Wedline3_2.append(newline)  "
   ]
  },
  {
   "cell_type": "code",
   "execution_count": 402,
   "metadata": {
    "collapsed": true
   },
   "outputs": [],
   "source": [
    "Wedline4_2 = []\n",
    "for i in range(82, 113):\n",
    "    a = i * 3 - 3\n",
    "    b = a + 3\n",
    "    lines = df3.iloc[a:b] # select every 3 rows\n",
    "    newline = lines.iloc[0] +','+ lines.iloc[1] +','+ lines.iloc[2]\n",
    "    Wedline4_2.append(newline)  "
   ]
  },
  {
   "cell_type": "code",
   "execution_count": 405,
   "metadata": {
    "collapsed": true,
    "scrolled": false
   },
   "outputs": [],
   "source": [
    "# df = pd.DataFrame(Wedline1_2)\n",
    "# df.to_csv('Wed1_2.csv')\n",
    "\n",
    "# df = pd.DataFrame(Wedline2_2)\n",
    "# df.to_csv('Wed2_2.csv')\n",
    "df = pd.DataFrame(Wedline3_2)\n",
    "df.to_csv('Wed3_2.csv')\n",
    "df = pd.DataFrame(Wedline4_2)\n",
    "df.to_csv('Wed4_2.csv')"
   ]
  },
  {
   "cell_type": "code",
   "execution_count": 319,
   "metadata": {
    "collapsed": true
   },
   "outputs": [],
   "source": [
    "df = pd.DataFrame(Monline_2)\n",
    "df.to_csv('Mon2.csv')\n",
    "\n",
    "df = pd.DataFrame(Tueline_2)\n",
    "df.to_csv('Tue2.csv')\n",
    "\n",
    "df = pd.DataFrame(Wedline_2)\n",
    "df.to_csv('Wed2.csv')\n",
    "\n",
    "df = pd.DataFrame(Thuline_2)\n",
    "df.to_csv('Thu2.csv')\n",
    "\n",
    "df = pd.DataFrame(Friline_2)\n",
    "df.to_csv('Fri2.csv')\n",
    "\n",
    "df = pd.DataFrame(Satline_2)\n",
    "df.to_csv('Sat2.csv')\n",
    "\n",
    "df = pd.DataFrame(Sunline_2)\n",
    "df.to_csv('Sun2.csv')"
   ]
  },
  {
   "cell_type": "code",
   "execution_count": 282,
   "metadata": {
    "collapsed": true
   },
   "outputs": [],
   "source": [
    "df = pd.DataFrame(Monline_2)"
   ]
  },
  {
   "cell_type": "code",
   "execution_count": 283,
   "metadata": {},
   "outputs": [
    {
     "data": {
      "text/html": [
       "<div>\n",
       "<style>\n",
       "    .dataframe thead tr:only-child th {\n",
       "        text-align: right;\n",
       "    }\n",
       "\n",
       "    .dataframe thead th {\n",
       "        text-align: left;\n",
       "    }\n",
       "\n",
       "    .dataframe tbody tr th {\n",
       "        vertical-align: top;\n",
       "    }\n",
       "</style>\n",
       "<table border=\"1\" class=\"dataframe\">\n",
       "  <thead>\n",
       "    <tr style=\"text-align: right;\">\n",
       "      <th></th>\n",
       "      <th>0</th>\n",
       "    </tr>\n",
       "  </thead>\n",
       "  <tbody>\n",
       "    <tr>\n",
       "      <th>0</th>\n",
       "      <td>Sunrise Pre-trip ALPHA,6:30 AM - 7:00 AM,Jorge...</td>\n",
       "    </tr>\n",
       "    <tr>\n",
       "      <th>1</th>\n",
       "      <td>Sunrise Pre-trip BETA,6:30 AM - 7:00 AM,Reece ...</td>\n",
       "    </tr>\n",
       "    <tr>\n",
       "      <th>2</th>\n",
       "      <td>Sunrise Pre-trip CHI,6:30 AM - 7:00 AM,Victor ...</td>\n",
       "    </tr>\n",
       "    <tr>\n",
       "      <th>3</th>\n",
       "      <td>Sunrise Pre-trip CS A,6:30 AM - 7:00 AM,Qiming...</td>\n",
       "    </tr>\n",
       "    <tr>\n",
       "      <th>4</th>\n",
       "      <td>Sunrise Pre-trip OMEGA,6:30 AM - 7:00 AM,Thoma...</td>\n",
       "    </tr>\n",
       "  </tbody>\n",
       "</table>\n",
       "</div>"
      ],
      "text/plain": [
       "                                                   0\n",
       "0  Sunrise Pre-trip ALPHA,6:30 AM - 7:00 AM,Jorge...\n",
       "1  Sunrise Pre-trip BETA,6:30 AM - 7:00 AM,Reece ...\n",
       "2  Sunrise Pre-trip CHI,6:30 AM - 7:00 AM,Victor ...\n",
       "3  Sunrise Pre-trip CS A,6:30 AM - 7:00 AM,Qiming...\n",
       "4  Sunrise Pre-trip OMEGA,6:30 AM - 7:00 AM,Thoma..."
      ]
     },
     "execution_count": 283,
     "metadata": {},
     "output_type": "execute_result"
    }
   ],
   "source": [
    "df.head()"
   ]
  },
  {
   "cell_type": "code",
   "execution_count": 275,
   "metadata": {
    "collapsed": true
   },
   "outputs": [],
   "source": [
    "Monline_2 = []\n",
    "for i in range(102):\n",
    "    a = i * 3\n",
    "    b = a + 3\n",
    "    lines = df.iloc[a:b] # select every 3 rows\n",
    "    newline = lines.iloc[0] +','+ lines.iloc[1] +','+ lines.iloc[2]\n",
    "    Monline_2.append(newline) "
   ]
  },
  {
   "cell_type": "code",
   "execution_count": 333,
   "metadata": {
    "scrolled": true
   },
   "outputs": [
    {
     "data": {
      "text/html": [
       "<div>\n",
       "<style>\n",
       "    .dataframe thead tr:only-child th {\n",
       "        text-align: right;\n",
       "    }\n",
       "\n",
       "    .dataframe thead th {\n",
       "        text-align: left;\n",
       "    }\n",
       "\n",
       "    .dataframe tbody tr th {\n",
       "        vertical-align: top;\n",
       "    }\n",
       "</style>\n",
       "<table border=\"1\" class=\"dataframe\">\n",
       "  <thead>\n",
       "    <tr style=\"text-align: right;\">\n",
       "      <th></th>\n",
       "      <th>2017-09-25 00:00:00</th>\n",
       "      <th>2017-09-26 00:00:00</th>\n",
       "      <th>2017-09-27 00:00:00</th>\n",
       "      <th>2017-09-28 00:00:00</th>\n",
       "      <th>2017-09-29 00:00:00</th>\n",
       "      <th>2017-09-30 00:00:00</th>\n",
       "      <th>2017-10-01 00:00:00</th>\n",
       "    </tr>\n",
       "  </thead>\n",
       "  <tbody>\n",
       "    <tr>\n",
       "      <th>0</th>\n",
       "      <td>Sunrise Pre-trip ALPHA</td>\n",
       "      <td>Sunrise Pre-trip ALPHA</td>\n",
       "      <td>Sunrise Pre-trip ALPHA</td>\n",
       "      <td>Sunrise Pre-trip ALPHA</td>\n",
       "      <td>Friday Dispatch LN</td>\n",
       "      <td>Late Nite CHI</td>\n",
       "      <td>Dispatch AM I</td>\n",
       "    </tr>\n",
       "    <tr>\n",
       "      <th>1</th>\n",
       "      <td>6:30 AM - 7:00 AM</td>\n",
       "      <td>6:30 AM - 7:00 AM</td>\n",
       "      <td>6:30 AM - 7:00 AM</td>\n",
       "      <td>6:30 AM - 7:00 AM</td>\n",
       "      <td>12:00 AM - 4:20 AM</td>\n",
       "      <td>12:00 AM - 4:20 AM</td>\n",
       "      <td>8:15 AM - 12:00 PM</td>\n",
       "    </tr>\n",
       "    <tr>\n",
       "      <th>2</th>\n",
       "      <td>Jorge Fernando Flores</td>\n",
       "      <td>Keanna Julien</td>\n",
       "      <td>Jorge Fernando Flores</td>\n",
       "      <td>Keanna Julien</td>\n",
       "      <td>Christopher Block</td>\n",
       "      <td>Amy Merke</td>\n",
       "      <td>Alpha Chen</td>\n",
       "    </tr>\n",
       "    <tr>\n",
       "      <th>3</th>\n",
       "      <td>Sunrise Pre-trip BETA</td>\n",
       "      <td>Sunrise Pre-trip BETA</td>\n",
       "      <td>Sunrise Pre-trip BETA</td>\n",
       "      <td>Sunrise Pre-trip BETA</td>\n",
       "      <td>Late Nite BETA</td>\n",
       "      <td>Late Nite EPSILON</td>\n",
       "      <td>Stark ALPHA</td>\n",
       "    </tr>\n",
       "    <tr>\n",
       "      <th>4</th>\n",
       "      <td>6:30 AM - 7:00 AM</td>\n",
       "      <td>6:30 AM - 7:00 AM</td>\n",
       "      <td>6:30 AM - 7:00 AM</td>\n",
       "      <td>6:30 AM - 7:00 AM</td>\n",
       "      <td>12:00 AM - 4:20 AM</td>\n",
       "      <td>12:00 AM - 4:05 AM</td>\n",
       "      <td>8:15 AM - 11:30 AM</td>\n",
       "    </tr>\n",
       "  </tbody>\n",
       "</table>\n",
       "</div>"
      ],
      "text/plain": [
       "               2017-09-25              2017-09-26              2017-09-27  \\\n",
       "0  Sunrise Pre-trip ALPHA  Sunrise Pre-trip ALPHA  Sunrise Pre-trip ALPHA   \n",
       "1       6:30 AM - 7:00 AM       6:30 AM - 7:00 AM       6:30 AM - 7:00 AM   \n",
       "2   Jorge Fernando Flores           Keanna Julien   Jorge Fernando Flores   \n",
       "3   Sunrise Pre-trip BETA   Sunrise Pre-trip BETA   Sunrise Pre-trip BETA   \n",
       "4       6:30 AM - 7:00 AM       6:30 AM - 7:00 AM       6:30 AM - 7:00 AM   \n",
       "\n",
       "               2017-09-28          2017-09-29          2017-09-30  \\\n",
       "0  Sunrise Pre-trip ALPHA  Friday Dispatch LN       Late Nite CHI   \n",
       "1       6:30 AM - 7:00 AM  12:00 AM - 4:20 AM  12:00 AM - 4:20 AM   \n",
       "2           Keanna Julien   Christopher Block           Amy Merke   \n",
       "3   Sunrise Pre-trip BETA      Late Nite BETA   Late Nite EPSILON   \n",
       "4       6:30 AM - 7:00 AM  12:00 AM - 4:20 AM  12:00 AM - 4:05 AM   \n",
       "\n",
       "           2017-10-01  \n",
       "0       Dispatch AM I  \n",
       "1  8:15 AM - 12:00 PM  \n",
       "2          Alpha Chen  \n",
       "3         Stark ALPHA  \n",
       "4  8:15 AM - 11:30 AM  "
      ]
     },
     "execution_count": 333,
     "metadata": {},
     "output_type": "execute_result"
    }
   ],
   "source": [
    "df.head()"
   ]
  },
  {
   "cell_type": "code",
   "execution_count": 334,
   "metadata": {
    "collapsed": true,
    "scrolled": true
   },
   "outputs": [],
   "source": [
    "#split every day\n",
    "Mondf = df.iloc[:,0]\n",
    "Tuedf = df.iloc[:,1]\n",
    "Weddf = df.iloc[:,2]\n",
    "Thudf = df.iloc[:,3]\n",
    "Fridf = df.iloc[:,4]\n",
    "Satdf = df.iloc[:,5]\n",
    "Sundf = df.iloc[:,6]"
   ]
  },
  {
   "cell_type": "code",
   "execution_count": 90,
   "metadata": {},
   "outputs": [
    {
     "data": {
      "text/plain": [
       "0    Sunrise Pre-trip ALPHA\n",
       "1         6:30 AM - 7:00 AM\n",
       "2     Jorge Fernando Flores\n",
       "3     Sunrise Pre-trip BETA\n",
       "4         6:30 AM - 7:00 AM\n",
       "Name: 2017-09-25 00:00:00, dtype: object"
      ]
     },
     "execution_count": 90,
     "metadata": {},
     "output_type": "execute_result"
    }
   ],
   "source": [
    "Mondf.head() #take a look"
   ]
  },
  {
   "cell_type": "code",
   "execution_count": 104,
   "metadata": {
    "collapsed": true
   },
   "outputs": [],
   "source": [
    "#drop NaN\n",
    "Mondf.dropna(inplace=True)\n",
    "Tuedf.dropna(inplace=True)\n",
    "Weddf.dropna(inplace=True)\n",
    "Thudf.dropna(inplace=True)\n",
    "Fridf.dropna(inplace=True)\n",
    "Satdf.dropna(inplace=True)\n",
    "Sundf.dropna(inplace=True)"
   ]
  },
  {
   "cell_type": "code",
   "execution_count": 106,
   "metadata": {},
   "outputs": [
    {
     "data": {
      "text/plain": [
       "103    10:30 PM - 1:05 AM\n",
       "104     Deborah Musselman\n",
       "105         Lannister CHI\n",
       "106    10:30 PM - 1:05 AM\n",
       "107        Adrian Antonio\n",
       "Name: 2017-10-01 00:00:00, dtype: object"
      ]
     },
     "execution_count": 106,
     "metadata": {},
     "output_type": "execute_result"
    }
   ],
   "source": [
    "Sundf.tail()#take a look"
   ]
  },
  {
   "cell_type": "code",
   "execution_count": 117,
   "metadata": {},
   "outputs": [
    {
     "name": "stdout",
     "output_type": "stream",
     "text": [
      "102.666666667\n",
      "103.0\n",
      "99.3333333333\n",
      "104.0\n",
      "108.0\n",
      "47.0\n",
      "36.0\n"
     ]
    }
   ],
   "source": [
    "#take a look of data length\n",
    "mylist = [Mondf, Tuedf, Weddf, Thudf, Fridf, Satdf, Sundf]\n",
    "for i in mylist:\n",
    "    print(len(i) / 3.)"
   ]
  },
  {
   "cell_type": "code",
   "execution_count": 127,
   "metadata": {
    "collapsed": true
   },
   "outputs": [],
   "source": [
    "Monline = []\n",
    "for i in range(102):\n",
    "    a = i * 3\n",
    "    b = a + 3\n",
    "    lines = Mondf.iloc[a:b] # select every 3 rows\n",
    "    newline = lines.iloc[0] +','+ lines.iloc[1] +','+ lines.iloc[2]\n",
    "    Monline.append(newline) "
   ]
  },
  {
   "cell_type": "code",
   "execution_count": 130,
   "metadata": {
    "collapsed": true
   },
   "outputs": [],
   "source": [
    "Tueline = []\n",
    "for i in range(103):\n",
    "    a = i * 3\n",
    "    b = a + 3\n",
    "    lines = Tuedf.iloc[a:b] # select every 3 rows\n",
    "    newline = lines.iloc[0] +','+ lines.iloc[1] +','+ lines.iloc[2]\n",
    "    Tueline.append(newline)  "
   ]
  },
  {
   "cell_type": "code",
   "execution_count": 125,
   "metadata": {
    "collapsed": true,
    "scrolled": false
   },
   "outputs": [],
   "source": [
    "Wedline = []\n",
    "for i in range(99):\n",
    "    a = i * 3\n",
    "    b = a + 3\n",
    "    lines = Weddf.iloc[a:b] # select every 3 rows\n",
    "    newline = lines.iloc[0] +','+ lines.iloc[1] +','+ lines.iloc[2]\n",
    "    Wedline.append(newline)  "
   ]
  },
  {
   "cell_type": "code",
   "execution_count": 132,
   "metadata": {
    "collapsed": true
   },
   "outputs": [],
   "source": [
    "Thuline = []\n",
    "for i in range(104):\n",
    "    a = i * 3\n",
    "    b = a + 3\n",
    "    lines = Thudf.iloc[a:b] # select every 3 rows\n",
    "    newline = lines.iloc[0] +','+ lines.iloc[1] +','+ lines.iloc[2]\n",
    "    Thuline.append(newline)  "
   ]
  },
  {
   "cell_type": "code",
   "execution_count": 532,
   "metadata": {
    "collapsed": true
   },
   "outputs": [],
   "source": [
    "Friline = []\n",
    "for i in range(108):\n",
    "    a = i * 3\n",
    "    b = a + 3\n",
    "    lines = Fridf.iloc[a:b] # select every 3 rows\n",
    "    newline = lines.iloc[0] +','+ lines.iloc[1] +','+ lines.iloc[2]\n",
    "    Friline.append(newline)  "
   ]
  },
  {
   "cell_type": "code",
   "execution_count": 579,
   "metadata": {
    "collapsed": true,
    "scrolled": true
   },
   "outputs": [],
   "source": [
    "Friline1_1 = []\n",
    "for i in range(12):\n",
    "    a = i * 3\n",
    "    b = a + 3\n",
    "    lines = Fridf.iloc[a:b] # select every 3 rows\n",
    "    newline = lines.iloc[0] +','+ lines.iloc[1] +','+ lines.iloc[2]\n",
    "    Friline1_1.append(newline)  "
   ]
  },
  {
   "cell_type": "code",
   "execution_count": 580,
   "metadata": {},
   "outputs": [
    {
     "data": {
      "text/plain": [
       "[u'Friday Dispatch LN,12:00 AM - 4:20 AM,Christopher Block',\n",
       " u'Late Nite BETA,12:00 AM - 4:20 AM,Gaddi Eshun',\n",
       " u'Late Nite CHI,12:00 AM - 4:05 AM,Sean Kaplan',\n",
       " u'Late Nite DELTA,12:15 AM - 4:20 AM,Patrick Curran',\n",
       " u'Late Nite EPSILON,12:15 AM - 4:05 AM,Thomas Burns',\n",
       " u'Sunrise Pre-trip ALPHA,6:30 AM - 7:00 AM,Jorge Fernando Flores',\n",
       " u'Sunrise Pre-trip BETA,6:30 AM - 7:00 AM,Reece Pyankaroo',\n",
       " u'Sunrise Pre-trip CHI,6:30 AM - 7:00 AM,Victor Santana Aguilera',\n",
       " u'Sunrise Pre-trip CS A,6:30 AM - 7:00 AM,Corbin Hargadon',\n",
       " u'Sunrise Pre-trip OMEGA,6:30 AM - 7:00 AM,Samantha Cermak',\n",
       " u'Sunrise Pre-trip EPSILON,6:45 AM - 7:15 AM,Pedro Cordero',\n",
       " u'Lift I,7:00 AM - 9:30 AM,Sunrise ALPHA']"
      ]
     },
     "execution_count": 580,
     "metadata": {},
     "output_type": "execute_result"
    }
   ],
   "source": [
    "Friline1_1"
   ]
  },
  {
   "cell_type": "code",
   "execution_count": 581,
   "metadata": {
    "collapsed": true
   },
   "outputs": [],
   "source": [
    "Friline1_2 = []\n",
    "for i in range(12, 74):\n",
    "    a = i * 3 - 1\n",
    "    b = a + 3\n",
    "    lines = Fridf.iloc[a:b] # select every 3 rows\n",
    "    newline = lines.iloc[0] +','+ lines.iloc[1] +','+ lines.iloc[2]\n",
    "    Friline1_2.append(newline)  "
   ]
  },
  {
   "cell_type": "code",
   "execution_count": 582,
   "metadata": {
    "collapsed": true
   },
   "outputs": [],
   "source": [
    "Friline1_3 = []\n",
    "for i in range(74, 89):\n",
    "    a = i * 3 - 2\n",
    "    b = a + 3\n",
    "    lines = Fridf.iloc[a:b] # select every 3 rows\n",
    "    newline = lines.iloc[0] +','+ lines.iloc[1] +','+ lines.iloc[2]\n",
    "    Friline1_3.append(newline)  "
   ]
  },
  {
   "cell_type": "code",
   "execution_count": 583,
   "metadata": {
    "collapsed": true
   },
   "outputs": [],
   "source": [
    "Friline1_4 = []\n",
    "for i in range(89, 109):\n",
    "    a = i * 3 - 3\n",
    "    b = a + 3\n",
    "    lines = Fridf.iloc[a:b] # select every 3 rows\n",
    "    newline = lines.iloc[0] +','+ lines.iloc[1] +','+ lines.iloc[2]\n",
    "    Friline1_4.append(newline)  "
   ]
  },
  {
   "cell_type": "code",
   "execution_count": 584,
   "metadata": {},
   "outputs": [
    {
     "data": {
      "text/plain": [
       "[u'Sunrise ALPHA,7:00 AM - 8:45 AM,Jorge Fernando Flores',\n",
       " u'Sunrise BETA,7:00 AM - 8:40 AM,Reece Pyankaroo',\n",
       " u'Sunrise CHI,7:00 AM - 9:00 AM,Victor Santana Aguilera',\n",
       " u'Sunrise CS A,7:00 AM - 9:00 AM,Corbin Hargadon',\n",
       " u'Sunrise OMEGA,7:00 AM - 9:00 AM,Samantha Cermak',\n",
       " u'Sunrise Pre-trip CS B,7:00 AM - 7:30 AM,Janine Alto',\n",
       " u'Sunrise Pre-trip CS C,7:00 AM - 7:30 AM,Gaddi Eshun',\n",
       " u'Sunrise Pre-trip GAMMA,7:00 AM - 7:30 AM,Thomas Burns',\n",
       " u'Sunrise Pre-trip ZETA,7:00 AM - 7:30 AM,Daniel Rozhkov',\n",
       " u'Sunrise DELTA,7:15 AM - 8:30 AM,Shenandoah Graiser',\n",
       " u'Sunrise EPSILON,7:15 AM - 8:30 AM,Pedro Cordero',\n",
       " u'Sunrise CS B,7:30 AM - 9:15 AM,Janine Alto',\n",
       " u'Sunrise CS C,7:30 AM - 9:30 AM,Gaddi Eshun',\n",
       " u'Sunrise GAMMA,7:30 AM - 9:00 AM,Thomas Burns',\n",
       " u'Sunrise ZETA,7:30 AM - 9:30 AM,Daniel Rozhkov',\n",
       " u'Training with Dana,7:30 AM - 10:30 AM,Christopher Block',\n",
       " u'AM DELTA,8:30 AM - 10:30 AM,Shenandoah Graiser',\n",
       " u'AM EPSILON,8:30 AM - 10:15 AM,Pedro Cordero',\n",
       " u'AM BETA,8:40 AM - 10:30 AM,Yonatan Hammerman',\n",
       " u'AM ALPHA,8:45 AM - 10:40 AM,Jorge Fernando Flores',\n",
       " u'AM CHI,9:00 AM - 10:30 AM,Victor Santana Aguilera',\n",
       " u'AM CS A,9:00 AM - 11:00 AM,Corbin Hargadon',\n",
       " u'AM GAMMA,9:00 AM - 11:00 AM,Amy Merke',\n",
       " u'AM OMEGA,9:00 AM - 11:00 AM,Qiming Zou',\n",
       " u'AM CS B,9:15 AM - 11:15 AM,Janine Alto',\n",
       " u'AM CS C,9:30 AM - 11:30 AM,Kyle Hussong',\n",
       " u'AM ZETA,9:30 AM - 11:30 AM,Lillian Harrington',\n",
       " u'Lift II,9:30 AM - 11:45 AM,Peter Guzewich',\n",
       " u'Mid EPSILON,10:15 AM - 12:30 PM,Jeffrey Goldberg',\n",
       " u'Mid BETA,10:30 AM - 12:30 PM,Reece Pyankaroo',\n",
       " u'Mid CHI,10:30 AM - 12:30 PM,Victor Santana Aguilera',\n",
       " u'Mid DELTA,10:30 AM - 12:00 PM,Anna Sirota',\n",
       " u'Mid ALPHA,10:40 AM - 12:15 PM,Shenandoah Graiser',\n",
       " u'Mid CS A,11:00 AM - 1:00 PM,Qiming Zou',\n",
       " u'Mid GAMMA,11:00 AM - 1:00 PM,Amy Merke',\n",
       " u'Mid OMEGA,11:00 AM - 1:00 PM,Harrison Kaye',\n",
       " u'Mid CS B,11:15 AM - 1:30 PM,Janine Alto',\n",
       " u'Mid CS C,11:30 AM - 1:20 PM,Kyle Hussong',\n",
       " u'Mid ZETA,11:30 AM - 1:20 PM,Lillian Harrington',\n",
       " u'Lift III,11:45 AM - 1:30 PM,Peter Guzewich',\n",
       " u'Noon DELTA,12:00 PM - 2:30 PM,Yonatan Hammerman',\n",
       " u'Noon ALPHA,12:15 PM - 2:30 PM,Deborah Musselman',\n",
       " u'Noon BETA,12:30 PM - 2:00 PM,Travis Allen',\n",
       " u'Noon CHI,12:30 PM - 2:15 PM,Jenny Yakir',\n",
       " u'Noon EPSILON,12:30 PM - 3:00 PM,Omer Atasever',\n",
       " u'Noon CS A,1:00 PM - 3:00 PM,Michelle Cheng',\n",
       " u'Noon GAMMA,1:00 PM - 3:00 PM,Mackenzie Donner',\n",
       " u'Noon OMEGA,1:00 PM - 3:00 PM,Carolina Benitez',\n",
       " u'Lift IV,1:30 PM - 4:00 PM,Brian Chambers-Graham',\n",
       " u'Noon CS B,1:30 PM - 3:30 PM,Nicolas Marjolin',\n",
       " u'Training with Casey,1:30 PM - 4:30 PM,Christopher Block',\n",
       " u'Afternoon BETA,2:00 PM - 4:15 PM,Qiming Zou',\n",
       " u'Afternoon CHI,2:15 PM - 4:30 PM,Anthony Ivanov',\n",
       " u'Afternoon ALPHA,2:30 PM - 4:45 PM,Deborah Musselman',\n",
       " u'Afternoon DELTA,2:30 PM - 4:30 PM,Kyle Hussong',\n",
       " u'Afternoon CS A,3:00 PM - 5:00 PM,Michael Konchan',\n",
       " u'Afternoon EPSILON,3:00 PM - 5:00 PM,Omer Atasever',\n",
       " u'Afternoon GAMMA,3:00 PM - 5:00 PM,Michelle Cheng',\n",
       " u'Afternoon OMEGA,3:00 PM - 5:00 PM,Patrick Curran',\n",
       " u'Afternoon CS B,3:30 PM - 5:30 PM,Brenden Faherty',\n",
       " u'Afternoon CS C,3:30 PM - 6:00 PM,Zachary Tepfenhart',\n",
       " u'Lift V,4:00 PM - 7:00 PM,Sunset ZETA']"
      ]
     },
     "execution_count": 584,
     "metadata": {},
     "output_type": "execute_result"
    }
   ],
   "source": [
    "Friline1_2"
   ]
  },
  {
   "cell_type": "code",
   "execution_count": 574,
   "metadata": {
    "scrolled": true
   },
   "outputs": [
    {
     "data": {
      "text/plain": [
       "[u'Sunset ZETA,4:00 PM - 7:00 PM,James Zihal',\n",
       " u'Sunset BETA,4:15 PM - 6:45 PM,Paul Annunziata',\n",
       " u'Sunset CHI,4:30 PM - 7:00 PM,Adrian Antonio',\n",
       " u'Sunset DELTA,4:30 PM - 7:00 PM,Kyle Hussong',\n",
       " u'Training with Lizzia,4:30 PM - 7:30 PM,Alexander Fritz',\n",
       " u'Sunset ALPHA,4:45 PM - 7:00 PM,Jenny Yakir',\n",
       " u'Dispatch I,5:00 PM - 8:30 PM,Harrison Kaye',\n",
       " u'Sunset CS A,5:00 PM - 7:00 PM,Carolina Benitez',\n",
       " u'Sunset EPSILON,5:00 PM - 7:15 PM,Mohamed Saleem',\n",
       " u'Sunset GAMMA,5:00 PM - 7:30 PM,Michael Konchan',\n",
       " u'Sunset OMEGA,5:00 PM - 7:00 PM,Kevin Giacchetto',\n",
       " u'Sunset CS B,5:30 PM - 7:30 PM,Naveed Tariq',\n",
       " u'Sunset CS C,6:00 PM - 8:00 PM,Zachary Tepfenhart',\n",
       " u'PM BETA,6:45 PM - 9:30 PM,Qiming Zou',\n",
       " u'Lift VI,7:00 PM - 10:00 PM,PM ALPHA']"
      ]
     },
     "execution_count": 574,
     "metadata": {},
     "output_type": "execute_result"
    }
   ],
   "source": [
    "Friline1_3"
   ]
  },
  {
   "cell_type": "code",
   "execution_count": 575,
   "metadata": {},
   "outputs": [
    {
     "data": {
      "text/plain": [
       "[u'PM ALPHA,7:00 PM - 10:00 PM,Sabine Petite-Frere',\n",
       " u'PM CHI,7:00 PM - 10:00 PM,Keanna Julien',\n",
       " u'PM DELTA,7:00 PM - 9:45 PM,Adrian Antonio',\n",
       " u'PM OMEGA,7:00 PM - 9:00 PM,Timothy Akaka',\n",
       " u'PM ZETA,7:00 PM - 10:05 PM,Chloe Roth',\n",
       " u'PM EPSILON,7:15 PM - 9:45 PM,Philip Guinto',\n",
       " u'PM CS B,7:30 PM - 9:30 PM,Alexander Fritz',\n",
       " u'PM GAMMA,7:30 PM - 10:30 PM,Peter DiSalvo',\n",
       " u'PM CS C,8:00 PM - 10:00 PM,Kylie Mawn',\n",
       " u'Dispatch II,8:30 PM - 12:00 AM,Christopher Block',\n",
       " u'Eve OMEGA,9:00 PM - 11:20 PM,Timothy Akaka',\n",
       " u'Eve BETA,9:30 PM - 12:00 AM,Alexander Fritz',\n",
       " u'Eve CS B,9:30 PM - 11:20 PM,Sean Kaplan',\n",
       " u'Eve DELTA,9:45 PM - 12:15 AM,Thomas Burns',\n",
       " u'Eve EPSILON,9:45 PM - 12:15 AM,Chloe Roth',\n",
       " u'Eve ALPHA,10:00 PM - 1:05 AM,Kylie Mawn',\n",
       " u'Eve CHI,10:00 PM - 12:00 AM,Patrick Curran',\n",
       " u'Eve CS C,10:00 PM - 1:05 AM,Philip Guinto',\n",
       " u'Monitor Beta,10:00 PM - 3:15 AM,Kaustubh More',\n",
       " u'Eve GAMMA,10:30 PM - 1:05 AM,Peter DiSalvo']"
      ]
     },
     "execution_count": 575,
     "metadata": {},
     "output_type": "execute_result"
    }
   ],
   "source": [
    "Friline1_4"
   ]
  },
  {
   "cell_type": "code",
   "execution_count": 586,
   "metadata": {},
   "outputs": [
    {
     "data": {
      "text/plain": [
       "[u'Friday Dispatch LN,12:00 AM - 4:20 AM,Christopher Block',\n",
       " u'Late Nite BETA,12:00 AM - 4:20 AM,Gaddi Eshun',\n",
       " u'Late Nite CHI,12:00 AM - 4:05 AM,Sean Kaplan',\n",
       " u'Late Nite DELTA,12:15 AM - 4:20 AM,Patrick Curran',\n",
       " u'Late Nite EPSILON,12:15 AM - 4:05 AM,Thomas Burns',\n",
       " u'Sunrise Pre-trip ALPHA,6:30 AM - 7:00 AM,Jorge Fernando Flores',\n",
       " u'Sunrise Pre-trip BETA,6:30 AM - 7:00 AM,Reece Pyankaroo',\n",
       " u'Sunrise Pre-trip CHI,6:30 AM - 7:00 AM,Victor Santana Aguilera',\n",
       " u'Sunrise Pre-trip CS A,6:30 AM - 7:00 AM,Corbin Hargadon',\n",
       " u'Sunrise Pre-trip OMEGA,6:30 AM - 7:00 AM,Samantha Cermak',\n",
       " u'Sunrise Pre-trip EPSILON,6:45 AM - 7:15 AM,Pedro Cordero',\n",
       " u'Lift I,7:00 AM - 9:30 AM,Sunrise ALPHA']"
      ]
     },
     "execution_count": 586,
     "metadata": {},
     "output_type": "execute_result"
    }
   ],
   "source": [
    "Friline1_1"
   ]
  },
  {
   "cell_type": "code",
   "execution_count": 587,
   "metadata": {},
   "outputs": [
    {
     "data": {
      "text/plain": [
       "[u'Sunrise ALPHA,7:00 AM - 8:45 AM,Jorge Fernando Flores',\n",
       " u'Sunrise BETA,7:00 AM - 8:40 AM,Reece Pyankaroo',\n",
       " u'Sunrise CHI,7:00 AM - 9:00 AM,Victor Santana Aguilera',\n",
       " u'Sunrise CS A,7:00 AM - 9:00 AM,Corbin Hargadon',\n",
       " u'Sunrise OMEGA,7:00 AM - 9:00 AM,Samantha Cermak',\n",
       " u'Sunrise Pre-trip CS B,7:00 AM - 7:30 AM,Janine Alto',\n",
       " u'Sunrise Pre-trip CS C,7:00 AM - 7:30 AM,Gaddi Eshun',\n",
       " u'Sunrise Pre-trip GAMMA,7:00 AM - 7:30 AM,Thomas Burns',\n",
       " u'Sunrise Pre-trip ZETA,7:00 AM - 7:30 AM,Daniel Rozhkov',\n",
       " u'Sunrise DELTA,7:15 AM - 8:30 AM,Shenandoah Graiser',\n",
       " u'Sunrise EPSILON,7:15 AM - 8:30 AM,Pedro Cordero',\n",
       " u'Sunrise CS B,7:30 AM - 9:15 AM,Janine Alto',\n",
       " u'Sunrise CS C,7:30 AM - 9:30 AM,Gaddi Eshun',\n",
       " u'Sunrise GAMMA,7:30 AM - 9:00 AM,Thomas Burns',\n",
       " u'Sunrise ZETA,7:30 AM - 9:30 AM,Daniel Rozhkov',\n",
       " u'Training with Dana,7:30 AM - 10:30 AM,Christopher Block',\n",
       " u'AM DELTA,8:30 AM - 10:30 AM,Shenandoah Graiser',\n",
       " u'AM EPSILON,8:30 AM - 10:15 AM,Pedro Cordero',\n",
       " u'AM BETA,8:40 AM - 10:30 AM,Yonatan Hammerman',\n",
       " u'AM ALPHA,8:45 AM - 10:40 AM,Jorge Fernando Flores',\n",
       " u'AM CHI,9:00 AM - 10:30 AM,Victor Santana Aguilera',\n",
       " u'AM CS A,9:00 AM - 11:00 AM,Corbin Hargadon',\n",
       " u'AM GAMMA,9:00 AM - 11:00 AM,Amy Merke',\n",
       " u'AM OMEGA,9:00 AM - 11:00 AM,Qiming Zou',\n",
       " u'AM CS B,9:15 AM - 11:15 AM,Janine Alto',\n",
       " u'AM CS C,9:30 AM - 11:30 AM,Kyle Hussong',\n",
       " u'AM ZETA,9:30 AM - 11:30 AM,Lillian Harrington',\n",
       " u'Lift II,9:30 AM - 11:45 AM,Peter Guzewich',\n",
       " u'Mid EPSILON,10:15 AM - 12:30 PM,Jeffrey Goldberg',\n",
       " u'Mid BETA,10:30 AM - 12:30 PM,Reece Pyankaroo',\n",
       " u'Mid CHI,10:30 AM - 12:30 PM,Victor Santana Aguilera',\n",
       " u'Mid DELTA,10:30 AM - 12:00 PM,Anna Sirota',\n",
       " u'Mid ALPHA,10:40 AM - 12:15 PM,Shenandoah Graiser',\n",
       " u'Mid CS A,11:00 AM - 1:00 PM,Qiming Zou',\n",
       " u'Mid GAMMA,11:00 AM - 1:00 PM,Amy Merke',\n",
       " u'Mid OMEGA,11:00 AM - 1:00 PM,Harrison Kaye',\n",
       " u'Mid CS B,11:15 AM - 1:30 PM,Janine Alto',\n",
       " u'Mid CS C,11:30 AM - 1:20 PM,Kyle Hussong',\n",
       " u'Mid ZETA,11:30 AM - 1:20 PM,Lillian Harrington',\n",
       " u'Lift III,11:45 AM - 1:30 PM,Peter Guzewich',\n",
       " u'Noon DELTA,12:00 PM - 2:30 PM,Yonatan Hammerman',\n",
       " u'Noon ALPHA,12:15 PM - 2:30 PM,Deborah Musselman',\n",
       " u'Noon BETA,12:30 PM - 2:00 PM,Travis Allen',\n",
       " u'Noon CHI,12:30 PM - 2:15 PM,Jenny Yakir',\n",
       " u'Noon EPSILON,12:30 PM - 3:00 PM,Omer Atasever',\n",
       " u'Noon CS A,1:00 PM - 3:00 PM,Michelle Cheng',\n",
       " u'Noon GAMMA,1:00 PM - 3:00 PM,Mackenzie Donner',\n",
       " u'Noon OMEGA,1:00 PM - 3:00 PM,Carolina Benitez',\n",
       " u'Lift IV,1:30 PM - 4:00 PM,Brian Chambers-Graham',\n",
       " u'Noon CS B,1:30 PM - 3:30 PM,Nicolas Marjolin',\n",
       " u'Training with Casey,1:30 PM - 4:30 PM,Christopher Block',\n",
       " u'Afternoon BETA,2:00 PM - 4:15 PM,Qiming Zou',\n",
       " u'Afternoon CHI,2:15 PM - 4:30 PM,Anthony Ivanov',\n",
       " u'Afternoon ALPHA,2:30 PM - 4:45 PM,Deborah Musselman',\n",
       " u'Afternoon DELTA,2:30 PM - 4:30 PM,Kyle Hussong',\n",
       " u'Afternoon CS A,3:00 PM - 5:00 PM,Michael Konchan',\n",
       " u'Afternoon EPSILON,3:00 PM - 5:00 PM,Omer Atasever',\n",
       " u'Afternoon GAMMA,3:00 PM - 5:00 PM,Michelle Cheng',\n",
       " u'Afternoon OMEGA,3:00 PM - 5:00 PM,Patrick Curran',\n",
       " u'Afternoon CS B,3:30 PM - 5:30 PM,Brenden Faherty',\n",
       " u'Afternoon CS C,3:30 PM - 6:00 PM,Zachary Tepfenhart',\n",
       " u'Lift V,4:00 PM - 7:00 PM,Sunset ZETA']"
      ]
     },
     "execution_count": 587,
     "metadata": {},
     "output_type": "execute_result"
    }
   ],
   "source": [
    "Friline1_2"
   ]
  },
  {
   "cell_type": "code",
   "execution_count": 588,
   "metadata": {},
   "outputs": [
    {
     "data": {
      "text/plain": [
       "[u'Sunset ZETA,4:00 PM - 7:00 PM,James Zihal',\n",
       " u'Sunset BETA,4:15 PM - 6:45 PM,Paul Annunziata',\n",
       " u'Sunset CHI,4:30 PM - 7:00 PM,Adrian Antonio',\n",
       " u'Sunset DELTA,4:30 PM - 7:00 PM,Kyle Hussong',\n",
       " u'Training with Lizzia,4:30 PM - 7:30 PM,Alexander Fritz',\n",
       " u'Sunset ALPHA,4:45 PM - 7:00 PM,Jenny Yakir',\n",
       " u'Dispatch I,5:00 PM - 8:30 PM,Harrison Kaye',\n",
       " u'Sunset CS A,5:00 PM - 7:00 PM,Carolina Benitez',\n",
       " u'Sunset EPSILON,5:00 PM - 7:15 PM,Mohamed Saleem',\n",
       " u'Sunset GAMMA,5:00 PM - 7:30 PM,Michael Konchan',\n",
       " u'Sunset OMEGA,5:00 PM - 7:00 PM,Kevin Giacchetto',\n",
       " u'Sunset CS B,5:30 PM - 7:30 PM,Naveed Tariq',\n",
       " u'Sunset CS C,6:00 PM - 8:00 PM,Zachary Tepfenhart',\n",
       " u'PM BETA,6:45 PM - 9:30 PM,Qiming Zou',\n",
       " u'Lift VI,7:00 PM - 10:00 PM,PM ALPHA']"
      ]
     },
     "execution_count": 588,
     "metadata": {},
     "output_type": "execute_result"
    }
   ],
   "source": [
    "Friline1_3"
   ]
  },
  {
   "cell_type": "code",
   "execution_count": 589,
   "metadata": {},
   "outputs": [
    {
     "data": {
      "text/plain": [
       "[u'PM ALPHA,7:00 PM - 10:00 PM,Sabine Petite-Frere',\n",
       " u'PM CHI,7:00 PM - 10:00 PM,Keanna Julien',\n",
       " u'PM DELTA,7:00 PM - 9:45 PM,Adrian Antonio',\n",
       " u'PM OMEGA,7:00 PM - 9:00 PM,Timothy Akaka',\n",
       " u'PM ZETA,7:00 PM - 10:05 PM,Chloe Roth',\n",
       " u'PM EPSILON,7:15 PM - 9:45 PM,Philip Guinto',\n",
       " u'PM CS B,7:30 PM - 9:30 PM,Alexander Fritz',\n",
       " u'PM GAMMA,7:30 PM - 10:30 PM,Peter DiSalvo',\n",
       " u'PM CS C,8:00 PM - 10:00 PM,Kylie Mawn',\n",
       " u'Dispatch II,8:30 PM - 12:00 AM,Christopher Block',\n",
       " u'Eve OMEGA,9:00 PM - 11:20 PM,Timothy Akaka',\n",
       " u'Eve BETA,9:30 PM - 12:00 AM,Alexander Fritz',\n",
       " u'Eve CS B,9:30 PM - 11:20 PM,Sean Kaplan',\n",
       " u'Eve DELTA,9:45 PM - 12:15 AM,Thomas Burns',\n",
       " u'Eve EPSILON,9:45 PM - 12:15 AM,Chloe Roth',\n",
       " u'Eve ALPHA,10:00 PM - 1:05 AM,Kylie Mawn',\n",
       " u'Eve CHI,10:00 PM - 12:00 AM,Patrick Curran',\n",
       " u'Eve CS C,10:00 PM - 1:05 AM,Philip Guinto',\n",
       " u'Monitor Beta,10:00 PM - 3:15 AM,Kaustubh More',\n",
       " u'Eve GAMMA,10:30 PM - 1:05 AM,Peter DiSalvo']"
      ]
     },
     "execution_count": 589,
     "metadata": {},
     "output_type": "execute_result"
    }
   ],
   "source": [
    "Friline1_4"
   ]
  },
  {
   "cell_type": "code",
   "execution_count": 590,
   "metadata": {
    "collapsed": true
   },
   "outputs": [],
   "source": [
    "df = pd.DataFrame(Friline1_1)\n",
    "df.to_csv('Fri1_1.csv')\n",
    "\n",
    "df = pd.DataFrame(Friline1_2)\n",
    "df.to_csv('Fri1_2.csv')\n",
    "\n",
    "df = pd.DataFrame(Friline1_3)\n",
    "df.to_csv('Fri1_3.csv')\n",
    "\n",
    "df = pd.DataFrame(Friline1_4)\n",
    "df.to_csv('Fri1_4.csv')"
   ]
  },
  {
   "cell_type": "code",
   "execution_count": 531,
   "metadata": {
    "scrolled": false
   },
   "outputs": [
    {
     "data": {
      "text/plain": [
       "[u'Friday Dispatch LN,12:00 AM - 4:20 AM,Christopher Block',\n",
       " u'Late Nite BETA,12:00 AM - 4:20 AM,Gaddi Eshun',\n",
       " u'Late Nite CHI,12:00 AM - 4:05 AM,Sean Kaplan',\n",
       " u'Late Nite DELTA,12:15 AM - 4:20 AM,Patrick Curran',\n",
       " u'Late Nite EPSILON,12:15 AM - 4:05 AM,Thomas Burns',\n",
       " u'Sunrise Pre-trip ALPHA,6:30 AM - 7:00 AM,Jorge Fernando Flores',\n",
       " u'Sunrise Pre-trip BETA,6:30 AM - 7:00 AM,Reece Pyankaroo',\n",
       " u'Sunrise Pre-trip CHI,6:30 AM - 7:00 AM,Victor Santana Aguilera',\n",
       " u'Sunrise Pre-trip CS A,6:30 AM - 7:00 AM,Corbin Hargadon',\n",
       " u'Sunrise Pre-trip OMEGA,6:30 AM - 7:00 AM,Samantha Cermak',\n",
       " u'Sunrise Pre-trip EPSILON,6:45 AM - 7:15 AM,Pedro Cordero',\n",
       " u'Lift I,7:00 AM - 9:30 AM,Sunrise ALPHA',\n",
       " u'7:00 AM - 8:45 AM,Jorge Fernando Flores,Sunrise BETA',\n",
       " u'7:00 AM - 8:40 AM,Reece Pyankaroo,Sunrise CHI',\n",
       " u'7:00 AM - 9:00 AM,Victor Santana Aguilera,Sunrise CS A',\n",
       " u'7:00 AM - 9:00 AM,Corbin Hargadon,Sunrise OMEGA',\n",
       " u'7:00 AM - 9:00 AM,Samantha Cermak,Sunrise Pre-trip CS B',\n",
       " u'7:00 AM - 7:30 AM,Janine Alto,Sunrise Pre-trip CS C',\n",
       " u'7:00 AM - 7:30 AM,Gaddi Eshun,Sunrise Pre-trip GAMMA',\n",
       " u'7:00 AM - 7:30 AM,Thomas Burns,Sunrise Pre-trip ZETA',\n",
       " u'7:00 AM - 7:30 AM,Daniel Rozhkov,Sunrise DELTA',\n",
       " u'7:15 AM - 8:30 AM,Shenandoah Graiser,Sunrise EPSILON',\n",
       " u'7:15 AM - 8:30 AM,Pedro Cordero,Sunrise CS B',\n",
       " u'7:30 AM - 9:15 AM,Janine Alto,Sunrise CS C',\n",
       " u'7:30 AM - 9:30 AM,Gaddi Eshun,Sunrise GAMMA',\n",
       " u'7:30 AM - 9:00 AM,Thomas Burns,Sunrise ZETA',\n",
       " u'7:30 AM - 9:30 AM,Daniel Rozhkov,Training with Dana',\n",
       " u'7:30 AM - 10:30 AM,Christopher Block,AM DELTA',\n",
       " u'8:30 AM - 10:30 AM,Shenandoah Graiser,AM EPSILON',\n",
       " u'8:30 AM - 10:15 AM,Pedro Cordero,AM BETA',\n",
       " u'8:40 AM - 10:30 AM,Yonatan Hammerman,AM ALPHA',\n",
       " u'8:45 AM - 10:40 AM,Jorge Fernando Flores,AM CHI',\n",
       " u'9:00 AM - 10:30 AM,Victor Santana Aguilera,AM CS A',\n",
       " u'9:00 AM - 11:00 AM,Corbin Hargadon,AM GAMMA',\n",
       " u'9:00 AM - 11:00 AM,Amy Merke,AM OMEGA',\n",
       " u'9:00 AM - 11:00 AM,Qiming Zou,AM CS B',\n",
       " u'9:15 AM - 11:15 AM,Janine Alto,AM CS C',\n",
       " u'9:30 AM - 11:30 AM,Kyle Hussong,AM ZETA',\n",
       " u'9:30 AM - 11:30 AM,Lillian Harrington,Lift II',\n",
       " u'9:30 AM - 11:45 AM,Peter Guzewich,Mid EPSILON',\n",
       " u'10:15 AM - 12:30 PM,Jeffrey Goldberg,Mid BETA',\n",
       " u'10:30 AM - 12:30 PM,Reece Pyankaroo,Mid CHI',\n",
       " u'10:30 AM - 12:30 PM,Victor Santana Aguilera,Mid DELTA',\n",
       " u'10:30 AM - 12:00 PM,Anna Sirota,Mid ALPHA',\n",
       " u'10:40 AM - 12:15 PM,Shenandoah Graiser,Mid CS A',\n",
       " u'11:00 AM - 1:00 PM,Qiming Zou,Mid GAMMA',\n",
       " u'11:00 AM - 1:00 PM,Amy Merke,Mid OMEGA',\n",
       " u'11:00 AM - 1:00 PM,Harrison Kaye,Mid CS B',\n",
       " u'11:15 AM - 1:30 PM,Janine Alto,Mid CS C',\n",
       " u'11:30 AM - 1:20 PM,Kyle Hussong,Mid ZETA',\n",
       " u'11:30 AM - 1:20 PM,Lillian Harrington,Lift III',\n",
       " u'11:45 AM - 1:30 PM,Peter Guzewich,Noon DELTA',\n",
       " u'12:00 PM - 2:30 PM,Yonatan Hammerman,Noon ALPHA',\n",
       " u'12:15 PM - 2:30 PM,Deborah Musselman,Noon BETA',\n",
       " u'12:30 PM - 2:00 PM,Travis Allen,Noon CHI',\n",
       " u'12:30 PM - 2:15 PM,Jenny Yakir,Noon EPSILON',\n",
       " u'12:30 PM - 3:00 PM,Omer Atasever,Noon CS A',\n",
       " u'1:00 PM - 3:00 PM,Michelle Cheng,Noon GAMMA',\n",
       " u'1:00 PM - 3:00 PM,Mackenzie Donner,Noon OMEGA',\n",
       " u'1:00 PM - 3:00 PM,Carolina Benitez,Lift IV',\n",
       " u'1:30 PM - 4:00 PM,Brian Chambers-Graham,Noon CS B',\n",
       " u'1:30 PM - 3:30 PM,Nicolas Marjolin,Training with Casey',\n",
       " u'1:30 PM - 4:30 PM,Christopher Block,Afternoon BETA',\n",
       " u'2:00 PM - 4:15 PM,Qiming Zou,Afternoon CHI',\n",
       " u'2:15 PM - 4:30 PM,Anthony Ivanov,Afternoon ALPHA',\n",
       " u'2:30 PM - 4:45 PM,Deborah Musselman,Afternoon DELTA',\n",
       " u'2:30 PM - 4:30 PM,Kyle Hussong,Afternoon CS A',\n",
       " u'3:00 PM - 5:00 PM,Michael Konchan,Afternoon EPSILON',\n",
       " u'3:00 PM - 5:00 PM,Omer Atasever,Afternoon GAMMA',\n",
       " u'3:00 PM - 5:00 PM,Michelle Cheng,Afternoon OMEGA',\n",
       " u'3:00 PM - 5:00 PM,Patrick Curran,Afternoon CS B',\n",
       " u'3:30 PM - 5:30 PM,Brenden Faherty,Afternoon CS C',\n",
       " u'3:30 PM - 6:00 PM,Zachary Tepfenhart,Lift V',\n",
       " u'4:00 PM - 7:00 PM,Sunset ZETA,4:00 PM - 7:00 PM',\n",
       " u'James Zihal,Sunset BETA,4:15 PM - 6:45 PM',\n",
       " u'Paul Annunziata,Sunset CHI,4:30 PM - 7:00 PM',\n",
       " u'Adrian Antonio,Sunset DELTA,4:30 PM - 7:00 PM',\n",
       " u'Kyle Hussong,Training with Lizzia,4:30 PM - 7:30 PM',\n",
       " u'Alexander Fritz,Sunset ALPHA,4:45 PM - 7:00 PM',\n",
       " u'Jenny Yakir,Dispatch I,5:00 PM - 8:30 PM',\n",
       " u'Harrison Kaye,Sunset CS A,5:00 PM - 7:00 PM',\n",
       " u'Carolina Benitez,Sunset EPSILON,5:00 PM - 7:15 PM',\n",
       " u'Mohamed Saleem,Sunset GAMMA,5:00 PM - 7:30 PM',\n",
       " u'Michael Konchan,Sunset OMEGA,5:00 PM - 7:00 PM',\n",
       " u'Kevin Giacchetto,Sunset CS B,5:30 PM - 7:30 PM',\n",
       " u'Naveed Tariq,Sunset CS C,6:00 PM - 8:00 PM',\n",
       " u'Zachary Tepfenhart,PM BETA,6:45 PM - 9:30 PM',\n",
       " u'Qiming Zou,Lift VI,7:00 PM - 10:00 PM',\n",
       " u'PM ALPHA,7:00 PM - 10:00 PM,Sabine Petite-Frere',\n",
       " u'PM CHI,7:00 PM - 10:00 PM,Keanna Julien',\n",
       " u'PM DELTA,7:00 PM - 9:45 PM,Adrian Antonio',\n",
       " u'PM OMEGA,7:00 PM - 9:00 PM,Timothy Akaka',\n",
       " u'PM ZETA,7:00 PM - 10:05 PM,Chloe Roth',\n",
       " u'PM EPSILON,7:15 PM - 9:45 PM,Philip Guinto',\n",
       " u'PM CS B,7:30 PM - 9:30 PM,Alexander Fritz',\n",
       " u'PM GAMMA,7:30 PM - 10:30 PM,Peter DiSalvo',\n",
       " u'PM CS C,8:00 PM - 10:00 PM,Kylie Mawn',\n",
       " u'Dispatch II,8:30 PM - 12:00 AM,Christopher Block',\n",
       " u'Eve OMEGA,9:00 PM - 11:20 PM,Timothy Akaka',\n",
       " u'Eve BETA,9:30 PM - 12:00 AM,Alexander Fritz',\n",
       " u'Eve CS B,9:30 PM - 11:20 PM,Sean Kaplan',\n",
       " u'Eve DELTA,9:45 PM - 12:15 AM,Thomas Burns',\n",
       " u'Eve EPSILON,9:45 PM - 12:15 AM,Chloe Roth',\n",
       " u'Eve ALPHA,10:00 PM - 1:05 AM,Kylie Mawn',\n",
       " u'Eve CHI,10:00 PM - 12:00 AM,Patrick Curran',\n",
       " u'Eve CS C,10:00 PM - 1:05 AM,Philip Guinto',\n",
       " u'Monitor Beta,10:00 PM - 3:15 AM,Kaustubh More',\n",
       " u'Eve GAMMA,10:30 PM - 1:05 AM,Peter DiSalvo']"
      ]
     },
     "execution_count": 531,
     "metadata": {},
     "output_type": "execute_result"
    }
   ],
   "source": [
    "Friline"
   ]
  },
  {
   "cell_type": "code",
   "execution_count": 134,
   "metadata": {
    "collapsed": true
   },
   "outputs": [],
   "source": [
    "Satline = []\n",
    "for i in range(47):\n",
    "    a = i * 3\n",
    "    b = a + 3\n",
    "    lines = Satdf.iloc[a:b] # select every 3 rows\n",
    "    newline = lines.iloc[0] +','+ lines.iloc[1] +','+ lines.iloc[2]\n",
    "    Satline.append(newline)  "
   ]
  },
  {
   "cell_type": "code",
   "execution_count": 135,
   "metadata": {
    "collapsed": true
   },
   "outputs": [],
   "source": [
    "Sunline = []\n",
    "for i in range(36):\n",
    "    a = i * 3\n",
    "    b = a + 3\n",
    "    lines = Sundf.iloc[a:b] # select every 3 rows\n",
    "    newline = lines.iloc[0] +','+ lines.iloc[1] +','+ lines.iloc[2]\n",
    "    Sunline.append(newline)  "
   ]
  },
  {
   "cell_type": "code",
   "execution_count": 138,
   "metadata": {
    "collapsed": true
   },
   "outputs": [],
   "source": [
    "df = pd.DataFrame(Monline)\n",
    "df.to_csv('Mon.csv')\n",
    "\n",
    "df = pd.DataFrame(Tueline)\n",
    "df.to_csv('Tue.csv')\n",
    "\n",
    "df = pd.DataFrame(Wedline)\n",
    "df.to_csv('Wed.csv')\n",
    "\n",
    "df = pd.DataFrame(Thuline)\n",
    "df.to_csv('Thu.csv')\n",
    "\n",
    "df = pd.DataFrame(Friline)\n",
    "df.to_csv('Fri.csv')\n",
    "\n",
    "df = pd.DataFrame(Satline)\n",
    "df.to_csv('Sat.csv')\n",
    "\n",
    "df = pd.DataFrame(Sunline)\n",
    "df.to_csv('Sun.csv')"
   ]
  },
  {
   "cell_type": "code",
   "execution_count": 339,
   "metadata": {
    "collapsed": true
   },
   "outputs": [],
   "source": [
    "Wedline1 = []\n",
    "for i in range(48):\n",
    "    a = i * 3\n",
    "    b = a + 3\n",
    "    lines = Weddf.iloc[a:b] # select every 3 rows\n",
    "    newline = lines.iloc[0] +','+ lines.iloc[1] +','+ lines.iloc[2]\n",
    "    Wedline1.append(newline)  "
   ]
  },
  {
   "cell_type": "code",
   "execution_count": 336,
   "metadata": {
    "collapsed": true
   },
   "outputs": [],
   "source": [
    "Wedline2 = []\n",
    "for i in range(48,81):\n",
    "    a = i * 3 - 1\n",
    "    b = a + 3\n",
    "    lines = Weddf.iloc[a:b] # select every 3 rows\n",
    "    newline = lines.iloc[0] +','+ lines.iloc[1] +','+ lines.iloc[2]\n",
    "    Wedline2.append(newline)  \n",
    "# range(47,99)"
   ]
  },
  {
   "cell_type": "code",
   "execution_count": 337,
   "metadata": {
    "collapsed": true
   },
   "outputs": [],
   "source": [
    "Wedline3 = []\n",
    "for i in range(81, 99):\n",
    "    a = i * 3 - 2\n",
    "    b = a + 3\n",
    "    lines = Weddf.iloc[a:b] # select every 3 rows\n",
    "    newline = lines.iloc[0] +','+ lines.iloc[1] +','+ lines.iloc[2]\n",
    "    Wedline3.append(newline)  "
   ]
  },
  {
   "cell_type": "code",
   "execution_count": 340,
   "metadata": {
    "scrolled": false
   },
   "outputs": [
    {
     "data": {
      "text/plain": [
       "[u'Sunrise Pre-trip ALPHA,6:30 AM - 7:00 AM,Jorge Fernando Flores',\n",
       " u'Sunrise Pre-trip BETA,6:30 AM - 7:00 AM,Reece Pyankaroo',\n",
       " u'Sunrise Pre-trip CHI,6:30 AM - 7:00 AM,Victor Santana Aguilera',\n",
       " u'Sunrise Pre-trip CS A,6:30 AM - 7:00 AM,Christopher Block',\n",
       " u'Sunrise Pre-trip OMEGA,6:30 AM - 7:00 AM,Daniel Asante',\n",
       " u'Sunrise Pre-trip DELTA,6:45 AM - 7:15 AM,Shenandoah Graiser',\n",
       " u'Sunrise Pre-trip EPSILON,6:45 AM - 7:15 AM,Pedro Cordero',\n",
       " u'Lift I,7:00 AM - 9:30 AM,Peter Guzewich',\n",
       " u'Sunrise ALPHA,7:00 AM - 8:45 AM,Jorge Fernando Flores',\n",
       " u'Sunrise BETA,7:00 AM - 8:40 AM,Reece Pyankaroo',\n",
       " u'Sunrise CHI,7:00 AM - 9:00 AM,Victor Santana Aguilera',\n",
       " u'Sunrise CS A,7:00 AM - 9:00 AM,Christopher Block',\n",
       " u'Sunrise OMEGA,7:00 AM - 9:00 AM,Daniel Asante',\n",
       " u'Sunrise Pre-trip CS B,7:00 AM - 7:30 AM,Corbin Hargadon',\n",
       " u'Sunrise Pre-trip CS C,7:00 AM - 7:30 AM,Janine Alto',\n",
       " u'Sunrise Pre-trip GAMMA,7:00 AM - 7:30 AM,Gaddi Eshun',\n",
       " u'Sunrise Pre-trip ZETA,7:00 AM - 7:30 AM,Thomas Burns',\n",
       " u'Sunrise DELTA,7:15 AM - 8:30 AM,Shenandoah Graiser',\n",
       " u'Sunrise EPSILON,7:15 AM - 8:30 AM,Pedro Cordero',\n",
       " u'Sunrise CS B,7:30 AM - 9:15 AM,Corbin Hargadon',\n",
       " u'Sunrise CS C,7:30 AM - 9:30 AM,Janine Alto',\n",
       " u'Sunrise GAMMA,7:30 AM - 9:00 AM,Gaddi Eshun',\n",
       " u'Sunrise ZETA,7:30 AM - 9:30 AM,Thomas Burns',\n",
       " u'AM DELTA,8:30 AM - 10:30 AM,Shenandoah Graiser',\n",
       " u'AM EPSILON,8:30 AM - 10:15 AM,Pedro Cordero',\n",
       " u'AM BETA,8:40 AM - 10:30 AM,Reece Pyankaroo',\n",
       " u'AM ALPHA,8:45 AM - 10:40 AM,Deborah Musselman',\n",
       " u'AM CHI,9:00 AM - 10:30 AM,Victor Santana Aguilera',\n",
       " u'AM CS A,9:00 AM - 11:00 AM,Travis Allen',\n",
       " u'AM GAMMA,9:00 AM - 11:00 AM,Gaddi Eshun',\n",
       " u'AM OMEGA,9:00 AM - 11:00 AM,Daniel Asante',\n",
       " u'AM CS B,9:15 AM - 11:15 AM,Corbin Hargadon',\n",
       " u'AM CS C,9:30 AM - 11:30 AM,Kyle Hussong',\n",
       " u'AM ZETA,9:30 AM - 11:30 AM,Zachary Galluzzo',\n",
       " u'Lift II,9:30 AM - 11:45 AM,Brian Chambers-Graham',\n",
       " u'Mid EPSILON,10:15 AM - 12:30 PM,Maya Jones',\n",
       " u'Mid BETA,10:30 AM - 12:30 PM,Reece Pyankaroo',\n",
       " u'Mid CHI,10:30 AM - 12:30 PM,Victor Santana Aguilera',\n",
       " u'Mid DELTA,10:30 AM - 12:00 PM,Anna Sirota',\n",
       " u'Training with Emily,10:30 AM - 1:30 PM,Christopher Block',\n",
       " u'Mid ALPHA,10:40 AM - 12:15 PM,Christina Fuller',\n",
       " u'Mid CS A,11:00 AM - 1:00 PM,Michelle Cheng',\n",
       " u'Mid GAMMA,11:00 AM - 1:00 PM,Qiming Zou',\n",
       " u'Mid OMEGA,11:00 AM - 1:00 PM,Daniel Asante',\n",
       " u'Mid CS B,11:15 AM - 1:30 PM,Sabine Petite-Frere',\n",
       " u'Mid CS C,11:30 AM - 1:20 PM,Kyle Hussong',\n",
       " u'Mid ZETA,11:30 AM - 1:20 PM,Mohamed Saleem',\n",
       " u'Lift III,11:45 AM - 1:30 PM,Noon DELTA']"
      ]
     },
     "execution_count": 340,
     "metadata": {},
     "output_type": "execute_result"
    }
   ],
   "source": [
    "Wedline1"
   ]
  },
  {
   "cell_type": "code",
   "execution_count": 164,
   "metadata": {
    "scrolled": false
   },
   "outputs": [
    {
     "data": {
      "text/plain": [
       "[u'Noon DELTA,12:00 PM - 2:30 PM,Anna Sirota',\n",
       " u'Noon ALPHA,12:15 PM - 2:30 PM,Administrator',\n",
       " u'Noon BETA,12:30 PM - 2:00 PM,Christina Fuller',\n",
       " u'Noon CHI,12:30 PM - 2:15 PM,Patrick Curran',\n",
       " u'Noon CS A,1:00 PM - 3:00 PM,Qiming Zou',\n",
       " u'Noon GAMMA,1:00 PM - 3:00 PM,Michelle Cheng',\n",
       " u'Noon OMEGA,1:00 PM - 3:00 PM,Maya Jones',\n",
       " u'Lift IV,1:30 PM - 4:00 PM,Brian Chambers-Graham',\n",
       " u'Noon CS B,1:30 PM - 3:30 PM,Mohamed Saleem',\n",
       " u'Afternoon BETA,2:00 PM - 4:15 PM,Kyle Hussong',\n",
       " u'Afternoon CHI,2:15 PM - 4:30 PM,Philip Guinto',\n",
       " u'Afternoon ALPHA,2:30 PM - 4:45 PM,Yonatan Hammerman',\n",
       " u'Afternoon DELTA,2:30 PM - 4:30 PM,Chloe Roth',\n",
       " u'Afternoon CS A,3:00 PM - 5:00 PM,Maya Jones',\n",
       " u'Afternoon GAMMA,3:00 PM - 5:00 PM,Jenny Yakir',\n",
       " u'Afternoon OMEGA,3:00 PM - 5:00 PM,Bruce Edington',\n",
       " u'Afternoon CS B,3:30 PM - 5:30 PM,Patrick Curran',\n",
       " u'Afternoon CS C,3:30 PM - 6:00 PM,Kevin Giacchetto',\n",
       " u'Lift V,4:00 PM - 7:00 PM,Glenell Jaquez',\n",
       " u'Sunset ZETA,4:00 PM - 7:00 PM,Anthony Ivanov',\n",
       " u'Sunset BETA,4:15 PM - 6:45 PM,Thomas Burns',\n",
       " u'Sunset CHI,4:30 PM - 7:00 PM,Lillian Harrington',\n",
       " u'Sunset DELTA,4:30 PM - 7:00 PM,Chloe Roth',\n",
       " u'Sunset ALPHA,4:45 PM - 7:00 PM,Brenden Faherty',\n",
       " u'Dispatch I,5:00 PM - 9:00 PM,Gabrielle Aviles',\n",
       " u'Sunset CS A,5:00 PM - 7:00 PM,Mack Conan',\n",
       " u'Sunset EPSILON,5:00 PM - 7:15 PM,Qiming Zou',\n",
       " u'Sunset GAMMA,5:00 PM - 7:30 PM,Haley Simmons',\n",
       " u'Sunset OMEGA,5:00 PM - 7:00 PM,Joanna Lojo',\n",
       " u'Sunset CS B,5:30 PM - 7:30 PM,Deborah Musselman',\n",
       " u'Sunset CS C,6:00 PM - 8:00 PM,Philip Guinto',\n",
       " u'PM BETA,6:45 PM - 9:00 PM,Samuel Chosak',\n",
       " u'Lift VI,7:00 PM - 10:00 PM,PM ALPHA']"
      ]
     },
     "execution_count": 164,
     "metadata": {},
     "output_type": "execute_result"
    }
   ],
   "source": [
    "Wedline2"
   ]
  },
  {
   "cell_type": "code",
   "execution_count": 172,
   "metadata": {
    "scrolled": true
   },
   "outputs": [
    {
     "data": {
      "text/plain": [
       "[u'PM ALPHA,7:00 PM - 9:00 PM,Zachary Galluzzo',\n",
       " u'PM CHI,7:00 PM - 10:00 PM,Owen Klepfer',\n",
       " u'PM DELTA,7:00 PM - 10:05 PM,Timothy Akaka',\n",
       " u'PM OMEGA,7:00 PM - 9:00 PM,Jessica Deturris',\n",
       " u'PM ZETA,7:00 PM - 10:05 PM,Anthony Ivanov',\n",
       " u'PM EPSILON,7:15 PM - 9:45 PM,Franklin Roosa',\n",
       " u'PM CS B,7:30 PM - 9:30 PM,Sabine Petite-Frere',\n",
       " u'PM GAMMA,7:30 PM - 10:30 PM,David Owusu',\n",
       " u'PM CS C,8:00 PM - 10:00 PM,Patrick Curran',\n",
       " u'Dispatch II,9:00 PM - 1:00 AM,Mathew Reed',\n",
       " u'Eve ALPHA,9:00 PM - 11:20 PM,Shenandoah Graiser',\n",
       " u'Eve BETA,9:00 PM - 11:20 PM,Samuel Chosak',\n",
       " u'Eve OMEGA,9:00 PM - 11:20 PM,Michael Konchan',\n",
       " u'Eve CS B,9:30 PM - 11:20 PM,Kai Brown',\n",
       " u'Eve EPSILON,9:45 PM - 1:00 AM,Franklin Roosa',\n",
       " u'Eve CHI,10:00 PM - 12:30 AM,Patrick Curran',\n",
       " u'Eve CS C,10:00 PM - 1:00 AM,Zachary Galluzzo',\n",
       " u'Eve DELTA,10:15 PM - 1:00 AM,Sabine Petite-Frere']"
      ]
     },
     "execution_count": 172,
     "metadata": {},
     "output_type": "execute_result"
    }
   ],
   "source": [
    "Wedline3"
   ]
  },
  {
   "cell_type": "code",
   "execution_count": 157,
   "metadata": {
    "collapsed": true
   },
   "outputs": [],
   "source": [
    "df = pd.DataFrame(Wedline1)\n",
    "df.to_csv('Wed1.csv')"
   ]
  },
  {
   "cell_type": "code",
   "execution_count": 173,
   "metadata": {
    "collapsed": true
   },
   "outputs": [],
   "source": [
    "df = pd.DataFrame(Wedline2)\n",
    "df.to_csv('Wed2.csv')\n",
    "\n",
    "df = pd.DataFrame(Wedline3)\n",
    "df.to_csv('Wed3.csv')"
   ]
  },
  {
   "cell_type": "code",
   "execution_count": 141,
   "metadata": {},
   "outputs": [
    {
     "data": {
      "text/plain": [
       "[u'Sunrise Pre-trip ALPHA,6:30 AM - 7:00 AM,Jorge Fernando Flores',\n",
       " u'Sunrise Pre-trip BETA,6:30 AM - 7:00 AM,Reece Pyankaroo',\n",
       " u'Sunrise Pre-trip CHI,6:30 AM - 7:00 AM,Victor Santana Aguilera',\n",
       " u'Sunrise Pre-trip CS A,6:30 AM - 7:00 AM,Christopher Block',\n",
       " u'Sunrise Pre-trip OMEGA,6:30 AM - 7:00 AM,Daniel Asante',\n",
       " u'Sunrise Pre-trip DELTA,6:45 AM - 7:15 AM,Shenandoah Graiser',\n",
       " u'Sunrise Pre-trip EPSILON,6:45 AM - 7:15 AM,Pedro Cordero',\n",
       " u'Lift I,7:00 AM - 9:30 AM,Peter Guzewich',\n",
       " u'Sunrise ALPHA,7:00 AM - 8:45 AM,Jorge Fernando Flores',\n",
       " u'Sunrise BETA,7:00 AM - 8:40 AM,Reece Pyankaroo',\n",
       " u'Sunrise CHI,7:00 AM - 9:00 AM,Victor Santana Aguilera',\n",
       " u'Sunrise CS A,7:00 AM - 9:00 AM,Christopher Block',\n",
       " u'Sunrise OMEGA,7:00 AM - 9:00 AM,Daniel Asante',\n",
       " u'Sunrise Pre-trip CS B,7:00 AM - 7:30 AM,Corbin Hargadon',\n",
       " u'Sunrise Pre-trip CS C,7:00 AM - 7:30 AM,Janine Alto',\n",
       " u'Sunrise Pre-trip GAMMA,7:00 AM - 7:30 AM,Gaddi Eshun',\n",
       " u'Sunrise Pre-trip ZETA,7:00 AM - 7:30 AM,Thomas Burns',\n",
       " u'Sunrise DELTA,7:15 AM - 8:30 AM,Shenandoah Graiser',\n",
       " u'Sunrise EPSILON,7:15 AM - 8:30 AM,Pedro Cordero',\n",
       " u'Sunrise CS B,7:30 AM - 9:15 AM,Corbin Hargadon',\n",
       " u'Sunrise CS C,7:30 AM - 9:30 AM,Janine Alto',\n",
       " u'Sunrise GAMMA,7:30 AM - 9:00 AM,Gaddi Eshun',\n",
       " u'Sunrise ZETA,7:30 AM - 9:30 AM,Thomas Burns',\n",
       " u'AM DELTA,8:30 AM - 10:30 AM,Shenandoah Graiser',\n",
       " u'AM EPSILON,8:30 AM - 10:15 AM,Pedro Cordero',\n",
       " u'AM BETA,8:40 AM - 10:30 AM,Reece Pyankaroo',\n",
       " u'AM ALPHA,8:45 AM - 10:40 AM,Deborah Musselman',\n",
       " u'AM CHI,9:00 AM - 10:30 AM,Victor Santana Aguilera',\n",
       " u'AM CS A,9:00 AM - 11:00 AM,Travis Allen',\n",
       " u'AM GAMMA,9:00 AM - 11:00 AM,Gaddi Eshun',\n",
       " u'AM OMEGA,9:00 AM - 11:00 AM,Daniel Asante',\n",
       " u'AM CS B,9:15 AM - 11:15 AM,Corbin Hargadon',\n",
       " u'AM CS C,9:30 AM - 11:30 AM,Kyle Hussong',\n",
       " u'AM ZETA,9:30 AM - 11:30 AM,Zachary Galluzzo',\n",
       " u'Lift II,9:30 AM - 11:45 AM,Brian Chambers-Graham',\n",
       " u'Mid EPSILON,10:15 AM - 12:30 PM,Maya Jones',\n",
       " u'Mid BETA,10:30 AM - 12:30 PM,Reece Pyankaroo',\n",
       " u'Mid CHI,10:30 AM - 12:30 PM,Victor Santana Aguilera',\n",
       " u'Mid DELTA,10:30 AM - 12:00 PM,Anna Sirota',\n",
       " u'Training with Emily,10:30 AM - 1:30 PM,Christopher Block',\n",
       " u'Mid ALPHA,10:40 AM - 12:15 PM,Christina Fuller',\n",
       " u'Mid CS A,11:00 AM - 1:00 PM,Michelle Cheng',\n",
       " u'Mid GAMMA,11:00 AM - 1:00 PM,Qiming Zou',\n",
       " u'Mid OMEGA,11:00 AM - 1:00 PM,Daniel Asante',\n",
       " u'Mid CS B,11:15 AM - 1:30 PM,Sabine Petite-Frere',\n",
       " u'Mid CS C,11:30 AM - 1:20 PM,Kyle Hussong',\n",
       " u'Mid ZETA,11:30 AM - 1:20 PM,Mohamed Saleem',\n",
       " u'Lift III,11:45 AM - 1:30 PM,Noon DELTA',\n",
       " u'12:00 PM - 2:30 PM,Anna Sirota,Noon ALPHA',\n",
       " u'12:15 PM - 2:30 PM,Administrator,Noon BETA',\n",
       " u'12:30 PM - 2:00 PM,Christina Fuller,Noon CHI',\n",
       " u'12:30 PM - 2:15 PM,Patrick Curran,Noon CS A',\n",
       " u'1:00 PM - 3:00 PM,Qiming Zou,Noon GAMMA',\n",
       " u'1:00 PM - 3:00 PM,Michelle Cheng,Noon OMEGA',\n",
       " u'1:00 PM - 3:00 PM,Maya Jones,Lift IV',\n",
       " u'1:30 PM - 4:00 PM,Brian Chambers-Graham,Noon CS B',\n",
       " u'1:30 PM - 3:30 PM,Mohamed Saleem,Afternoon BETA',\n",
       " u'2:00 PM - 4:15 PM,Kyle Hussong,Afternoon CHI',\n",
       " u'2:15 PM - 4:30 PM,Philip Guinto,Afternoon ALPHA',\n",
       " u'2:30 PM - 4:45 PM,Yonatan Hammerman,Afternoon DELTA',\n",
       " u'2:30 PM - 4:30 PM,Chloe Roth,Afternoon CS A',\n",
       " u'3:00 PM - 5:00 PM,Maya Jones,Afternoon GAMMA',\n",
       " u'3:00 PM - 5:00 PM,Jenny Yakir,Afternoon OMEGA',\n",
       " u'3:00 PM - 5:00 PM,Bruce Edington,Afternoon CS B',\n",
       " u'3:30 PM - 5:30 PM,Patrick Curran,Afternoon CS C',\n",
       " u'3:30 PM - 6:00 PM,Kevin Giacchetto,Lift V',\n",
       " u'4:00 PM - 7:00 PM,Glenell Jaquez,Sunset ZETA',\n",
       " u'4:00 PM - 7:00 PM,Anthony Ivanov,Sunset BETA',\n",
       " u'4:15 PM - 6:45 PM,Thomas Burns,Sunset CHI',\n",
       " u'4:30 PM - 7:00 PM,Lillian Harrington,Sunset DELTA',\n",
       " u'4:30 PM - 7:00 PM,Chloe Roth,Sunset ALPHA',\n",
       " u'4:45 PM - 7:00 PM,Brenden Faherty,Dispatch I',\n",
       " u'5:00 PM - 9:00 PM,Gabrielle Aviles,Sunset CS A',\n",
       " u'5:00 PM - 7:00 PM,Mack Conan,Sunset EPSILON',\n",
       " u'5:00 PM - 7:15 PM,Qiming Zou,Sunset GAMMA',\n",
       " u'5:00 PM - 7:30 PM,Haley Simmons,Sunset OMEGA',\n",
       " u'5:00 PM - 7:00 PM,Joanna Lojo,Sunset CS B',\n",
       " u'5:30 PM - 7:30 PM,Deborah Musselman,Sunset CS C',\n",
       " u'6:00 PM - 8:00 PM,Philip Guinto,PM BETA',\n",
       " u'6:45 PM - 9:00 PM,Samuel Chosak,Lift VI',\n",
       " u'7:00 PM - 10:00 PM,PM ALPHA,7:00 PM - 9:00 PM',\n",
       " u'Zachary Galluzzo,PM CHI,7:00 PM - 10:00 PM',\n",
       " u'Owen Klepfer,PM DELTA,7:00 PM - 10:05 PM',\n",
       " u'Timothy Akaka,PM OMEGA,7:00 PM - 9:00 PM',\n",
       " u'Jessica Deturris,PM ZETA,7:00 PM - 10:05 PM',\n",
       " u'Anthony Ivanov,PM EPSILON,7:15 PM - 9:45 PM',\n",
       " u'Franklin Roosa,PM CS B,7:30 PM - 9:30 PM',\n",
       " u'Sabine Petite-Frere,PM GAMMA,7:30 PM - 10:30 PM',\n",
       " u'David Owusu,PM CS C,8:00 PM - 10:00 PM',\n",
       " u'Patrick Curran,Dispatch II,9:00 PM - 1:00 AM',\n",
       " u'Mathew Reed,Eve ALPHA,9:00 PM - 11:20 PM',\n",
       " u'Shenandoah Graiser,Eve BETA,9:00 PM - 11:20 PM',\n",
       " u'Samuel Chosak,Eve OMEGA,9:00 PM - 11:20 PM',\n",
       " u'Michael Konchan,Eve CS B,9:30 PM - 11:20 PM',\n",
       " u'Kai Brown,Eve EPSILON,9:45 PM - 1:00 AM',\n",
       " u'Franklin Roosa,Eve CHI,10:00 PM - 12:30 AM',\n",
       " u'Patrick Curran,Eve CS C,10:00 PM - 1:00 AM',\n",
       " u'Zachary Galluzzo,Eve DELTA,10:15 PM - 1:00 AM',\n",
       " u'Sabine Petite-Frere,Eve GAMMA,10:30 PM - 1:00 AM']"
      ]
     },
     "execution_count": 141,
     "metadata": {},
     "output_type": "execute_result"
    }
   ],
   "source": [
    "Wedline"
   ]
  },
  {
   "cell_type": "code",
   "execution_count": 102,
   "metadata": {
    "collapsed": true
   },
   "outputs": [],
   "source": [
    "df = pd.DataFrame(myline)\n",
    "df.to_csv('Mon.csv')"
   ]
  }
 ],
 "metadata": {
  "kernelspec": {
   "display_name": "Python 3",
   "language": "python",
   "name": "python3"
  },
  "language_info": {
   "codemirror_mode": {
    "name": "ipython",
    "version": 3
   },
   "file_extension": ".py",
   "mimetype": "text/x-python",
   "name": "python",
   "nbconvert_exporter": "python",
   "pygments_lexer": "ipython3",
   "version": "3.6.2"
  }
 },
 "nbformat": 4,
 "nbformat_minor": 2
}
